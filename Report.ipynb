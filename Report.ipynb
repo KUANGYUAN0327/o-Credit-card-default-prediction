{
 "cells": [
  {
   "cell_type": "markdown",
   "metadata": {},
   "source": [
    "# Default of Credit Card Clients - Predictive Models\n",
    "\n",
    "## Introduction\n",
    "\n",
    "In this report, we will use CatBoost, XGBoost, LightGBM, and deep neural network (DNN) to predict default of credit card clients.\n",
    "\n",
    "## Dataset\n",
    "\n",
    "This dataset is downloaded from Kaggle.\n",
    "\n",
    "Data recource: UCI machine learning repository\n",
    "\n",
    "This dataset contains information on default payments, demographic factors, credit data, history of payment, and bill statements of credit card clients in Taiwan from April 2005 to September 2005.\n",
    "\n",
    "\n",
    "## Content\n",
    "There are 25 variables:\n",
    "\n",
    "ID: ID of each client\n",
    "\n",
    "LIMIT_BAL: Amount of given credit in NT dollars (includes individual and family/supplementary credit\n",
    "\n",
    "SEX: Gender (1=male, 2=female)\n",
    "\n",
    "EDUCATION: (1=graduate school, 2=university, 3=high school, 4=others, 5=unknown, 6=unknown)\n",
    "\n",
    "MARRIAGE: Marital status (1=married, 2=single, 3=others)\n",
    "\n",
    "AGE: Age in years\n",
    "\n",
    "PAY_0: Repayment status in September, 2005 (-1=pay duly, 1=payment delay for one month, 2=payment delay for two months, ... 8=payment delay for eight months, 9=payment delay for nine months and above)\n",
    "\n",
    "PAY_2: Repayment status in August, 2005 (scale same as above)\n",
    "\n",
    "PAY_3: Repayment status in July, 2005 (scale same as above)\n",
    "\n",
    "PAY_4: Repayment status in June, 2005 (scale same as above)\n",
    "\n",
    "PAY_5: Repayment status in May, 2005 (scale same as above)\n",
    "\n",
    "PAY_6: Repayment status in April, 2005 (scale same as above)\n",
    "\n",
    "BILL_AMT1: Amount of bill statement in September, 2005 (NT dollar)\n",
    "\n",
    "BILL_AMT2: Amount of bill statement in August, 2005 (NT dollar)\n",
    "\n",
    "BILL_AMT3: Amount of bill statement in July, 2005 (NT dollar)\n",
    "\n",
    "BILL_AMT4: Amount of bill statement in June, 2005 (NT dollar)\n",
    "\n",
    "BILL_AMT5: Amount of bill statement in May, 2005 (NT dollar)\n",
    "\n",
    "BILL_AMT6: Amount of bill statement in April, 2005 (NT dollar)\n",
    "\n",
    "PAY_AMT1: Amount of previous payment in September, 2005 (NT dollar)\n",
    "\n",
    "PAY_AMT2: Amount of previous payment in August, 2005 (NT dollar)\n",
    "\n",
    "PAY_AMT3: Amount of previous payment in July, 2005 (NT dollar)\n",
    "\n",
    "PAY_AMT4: Amount of previous payment in June, 2005 (NT dollar)\n",
    "\n",
    "PAY_AMT5: Amount of previous payment in May, 2005 (NT dollar)\n",
    "\n",
    "PAY_AMT6: Amount of previous payment in April, 2005 (NT dollar)\n",
    "\n",
    "default.payment.next.month: Default payment (1=yes, 0=no)\n"
   ]
  },
  {
   "cell_type": "markdown",
   "metadata": {},
   "source": [
    "# Load packages\n",
    "\n",
    "## Load packages"
   ]
  },
  {
   "cell_type": "code",
   "execution_count": 287,
   "metadata": {},
   "outputs": [],
   "source": [
    "import pandas as pd \n",
    "import numpy as np\n",
    "import matplotlib\n",
    "import matplotlib.pyplot as plt\n",
    "import seaborn as sns\n",
    "%matplotlib inline \n",
    "\n",
    "import gc #Garbage Collector interface\n",
    "from datetime import datetime \n",
    "from sklearn.model_selection import train_test_split\n",
    "from sklearn.model_selection import KFold\n",
    "from catboost import CatBoostClassifier\n",
    "import lightgbm as lgb\n",
    "import xgboost as xgb"
   ]
  },
  {
   "cell_type": "markdown",
   "metadata": {},
   "source": [
    "## Set parameters\n",
    "\n",
    "Here we set few parameters for the analysis and models."
   ]
  },
  {
   "cell_type": "code",
   "execution_count": 288,
   "metadata": {},
   "outputs": [],
   "source": [
    "# RFC_METRIC = 'gini'  #metric used for RandomForrestClassifier\n",
    "# NUM_ESTIMATORS = 100 #number of estimators used for RandomForrestClassifier\n",
    "# NO_JOBS = 4 #number of parallel jobs used for RandomForrestClassifier\n",
    "\n",
    "#VALIDATION\n",
    "TEST_SIZE = 0.20 # using train_test_split\n",
    "\n",
    "#CROSS-VALIDATION\n",
    "NUMBER_KFOLDS = 5 #number of KFolds for cross-validation\n",
    "\n",
    "RANDOM_STATE = 2020\n",
    "\n",
    "MAX_ROUNDS = 1000 #lgb iterations\n",
    "EARLY_STOP = 50 #lgb early stop \n",
    "OPT_ROUNDS = 1000  #To be adjusted based on best validation rounds\n",
    "VERBOSE_EVAL = 50 #Print out metric result"
   ]
  },
  {
   "cell_type": "markdown",
   "metadata": {},
   "source": [
    "# Read the data"
   ]
  },
  {
   "cell_type": "code",
   "execution_count": 289,
   "metadata": {},
   "outputs": [],
   "source": [
    "data_df = pd.read_csv(\"/Users/Stylewsxcde991/Desktop/Default of Credit Card Clients/UCI_Credit_Card.csv\")"
   ]
  },
  {
   "cell_type": "markdown",
   "metadata": {},
   "source": [
    "# Check the data"
   ]
  },
  {
   "cell_type": "code",
   "execution_count": 290,
   "metadata": {},
   "outputs": [
    {
     "name": "stdout",
     "output_type": "stream",
     "text": [
      "Default Credit Card Clients data -  rows: 30000  columns: 25\n"
     ]
    }
   ],
   "source": [
    "print(\"Default Credit Card Clients data -  rows:\",data_df.shape[0],\" columns:\", data_df.shape[1])"
   ]
  },
  {
   "cell_type": "markdown",
   "metadata": {},
   "source": [
    "## Glimpse the data\n",
    "\n",
    "We start by looking to the data features (first 5 rows)."
   ]
  },
  {
   "cell_type": "code",
   "execution_count": 291,
   "metadata": {},
   "outputs": [
    {
     "data": {
      "text/html": [
       "<div>\n",
       "<style scoped>\n",
       "    .dataframe tbody tr th:only-of-type {\n",
       "        vertical-align: middle;\n",
       "    }\n",
       "\n",
       "    .dataframe tbody tr th {\n",
       "        vertical-align: top;\n",
       "    }\n",
       "\n",
       "    .dataframe thead th {\n",
       "        text-align: right;\n",
       "    }\n",
       "</style>\n",
       "<table border=\"1\" class=\"dataframe\">\n",
       "  <thead>\n",
       "    <tr style=\"text-align: right;\">\n",
       "      <th></th>\n",
       "      <th>ID</th>\n",
       "      <th>LIMIT_BAL</th>\n",
       "      <th>SEX</th>\n",
       "      <th>EDUCATION</th>\n",
       "      <th>MARRIAGE</th>\n",
       "      <th>AGE</th>\n",
       "      <th>PAY_0</th>\n",
       "      <th>PAY_2</th>\n",
       "      <th>PAY_3</th>\n",
       "      <th>PAY_4</th>\n",
       "      <th>...</th>\n",
       "      <th>BILL_AMT4</th>\n",
       "      <th>BILL_AMT5</th>\n",
       "      <th>BILL_AMT6</th>\n",
       "      <th>PAY_AMT1</th>\n",
       "      <th>PAY_AMT2</th>\n",
       "      <th>PAY_AMT3</th>\n",
       "      <th>PAY_AMT4</th>\n",
       "      <th>PAY_AMT5</th>\n",
       "      <th>PAY_AMT6</th>\n",
       "      <th>default.payment.next.month</th>\n",
       "    </tr>\n",
       "  </thead>\n",
       "  <tbody>\n",
       "    <tr>\n",
       "      <th>0</th>\n",
       "      <td>1</td>\n",
       "      <td>20000.0</td>\n",
       "      <td>2</td>\n",
       "      <td>2</td>\n",
       "      <td>1</td>\n",
       "      <td>24</td>\n",
       "      <td>2</td>\n",
       "      <td>2</td>\n",
       "      <td>-1</td>\n",
       "      <td>-1</td>\n",
       "      <td>...</td>\n",
       "      <td>0.0</td>\n",
       "      <td>0.0</td>\n",
       "      <td>0.0</td>\n",
       "      <td>0.0</td>\n",
       "      <td>689.0</td>\n",
       "      <td>0.0</td>\n",
       "      <td>0.0</td>\n",
       "      <td>0.0</td>\n",
       "      <td>0.0</td>\n",
       "      <td>1</td>\n",
       "    </tr>\n",
       "    <tr>\n",
       "      <th>1</th>\n",
       "      <td>2</td>\n",
       "      <td>120000.0</td>\n",
       "      <td>2</td>\n",
       "      <td>2</td>\n",
       "      <td>2</td>\n",
       "      <td>26</td>\n",
       "      <td>-1</td>\n",
       "      <td>2</td>\n",
       "      <td>0</td>\n",
       "      <td>0</td>\n",
       "      <td>...</td>\n",
       "      <td>3272.0</td>\n",
       "      <td>3455.0</td>\n",
       "      <td>3261.0</td>\n",
       "      <td>0.0</td>\n",
       "      <td>1000.0</td>\n",
       "      <td>1000.0</td>\n",
       "      <td>1000.0</td>\n",
       "      <td>0.0</td>\n",
       "      <td>2000.0</td>\n",
       "      <td>1</td>\n",
       "    </tr>\n",
       "    <tr>\n",
       "      <th>2</th>\n",
       "      <td>3</td>\n",
       "      <td>90000.0</td>\n",
       "      <td>2</td>\n",
       "      <td>2</td>\n",
       "      <td>2</td>\n",
       "      <td>34</td>\n",
       "      <td>0</td>\n",
       "      <td>0</td>\n",
       "      <td>0</td>\n",
       "      <td>0</td>\n",
       "      <td>...</td>\n",
       "      <td>14331.0</td>\n",
       "      <td>14948.0</td>\n",
       "      <td>15549.0</td>\n",
       "      <td>1518.0</td>\n",
       "      <td>1500.0</td>\n",
       "      <td>1000.0</td>\n",
       "      <td>1000.0</td>\n",
       "      <td>1000.0</td>\n",
       "      <td>5000.0</td>\n",
       "      <td>0</td>\n",
       "    </tr>\n",
       "    <tr>\n",
       "      <th>3</th>\n",
       "      <td>4</td>\n",
       "      <td>50000.0</td>\n",
       "      <td>2</td>\n",
       "      <td>2</td>\n",
       "      <td>1</td>\n",
       "      <td>37</td>\n",
       "      <td>0</td>\n",
       "      <td>0</td>\n",
       "      <td>0</td>\n",
       "      <td>0</td>\n",
       "      <td>...</td>\n",
       "      <td>28314.0</td>\n",
       "      <td>28959.0</td>\n",
       "      <td>29547.0</td>\n",
       "      <td>2000.0</td>\n",
       "      <td>2019.0</td>\n",
       "      <td>1200.0</td>\n",
       "      <td>1100.0</td>\n",
       "      <td>1069.0</td>\n",
       "      <td>1000.0</td>\n",
       "      <td>0</td>\n",
       "    </tr>\n",
       "    <tr>\n",
       "      <th>4</th>\n",
       "      <td>5</td>\n",
       "      <td>50000.0</td>\n",
       "      <td>1</td>\n",
       "      <td>2</td>\n",
       "      <td>1</td>\n",
       "      <td>57</td>\n",
       "      <td>-1</td>\n",
       "      <td>0</td>\n",
       "      <td>-1</td>\n",
       "      <td>0</td>\n",
       "      <td>...</td>\n",
       "      <td>20940.0</td>\n",
       "      <td>19146.0</td>\n",
       "      <td>19131.0</td>\n",
       "      <td>2000.0</td>\n",
       "      <td>36681.0</td>\n",
       "      <td>10000.0</td>\n",
       "      <td>9000.0</td>\n",
       "      <td>689.0</td>\n",
       "      <td>679.0</td>\n",
       "      <td>0</td>\n",
       "    </tr>\n",
       "  </tbody>\n",
       "</table>\n",
       "<p>5 rows × 25 columns</p>\n",
       "</div>"
      ],
      "text/plain": [
       "   ID  LIMIT_BAL  SEX  EDUCATION  MARRIAGE  AGE  PAY_0  PAY_2  PAY_3  PAY_4  \\\n",
       "0   1    20000.0    2          2         1   24      2      2     -1     -1   \n",
       "1   2   120000.0    2          2         2   26     -1      2      0      0   \n",
       "2   3    90000.0    2          2         2   34      0      0      0      0   \n",
       "3   4    50000.0    2          2         1   37      0      0      0      0   \n",
       "4   5    50000.0    1          2         1   57     -1      0     -1      0   \n",
       "\n",
       "   ...  BILL_AMT4  BILL_AMT5  BILL_AMT6  PAY_AMT1  PAY_AMT2  PAY_AMT3  \\\n",
       "0  ...        0.0        0.0        0.0       0.0     689.0       0.0   \n",
       "1  ...     3272.0     3455.0     3261.0       0.0    1000.0    1000.0   \n",
       "2  ...    14331.0    14948.0    15549.0    1518.0    1500.0    1000.0   \n",
       "3  ...    28314.0    28959.0    29547.0    2000.0    2019.0    1200.0   \n",
       "4  ...    20940.0    19146.0    19131.0    2000.0   36681.0   10000.0   \n",
       "\n",
       "   PAY_AMT4  PAY_AMT5  PAY_AMT6  default.payment.next.month  \n",
       "0       0.0       0.0       0.0                           1  \n",
       "1    1000.0       0.0    2000.0                           1  \n",
       "2    1000.0    1000.0    5000.0                           0  \n",
       "3    1100.0    1069.0    1000.0                           0  \n",
       "4    9000.0     689.0     679.0                           0  \n",
       "\n",
       "[5 rows x 25 columns]"
      ]
     },
     "execution_count": 291,
     "metadata": {},
     "output_type": "execute_result"
    }
   ],
   "source": [
    "data_df.head()"
   ]
  },
  {
   "cell_type": "markdown",
   "metadata": {},
   "source": [
    "Let's look into more details to the data."
   ]
  },
  {
   "cell_type": "code",
   "execution_count": 292,
   "metadata": {},
   "outputs": [
    {
     "data": {
      "text/html": [
       "<div>\n",
       "<style scoped>\n",
       "    .dataframe tbody tr th:only-of-type {\n",
       "        vertical-align: middle;\n",
       "    }\n",
       "\n",
       "    .dataframe tbody tr th {\n",
       "        vertical-align: top;\n",
       "    }\n",
       "\n",
       "    .dataframe thead th {\n",
       "        text-align: right;\n",
       "    }\n",
       "</style>\n",
       "<table border=\"1\" class=\"dataframe\">\n",
       "  <thead>\n",
       "    <tr style=\"text-align: right;\">\n",
       "      <th></th>\n",
       "      <th>ID</th>\n",
       "      <th>LIMIT_BAL</th>\n",
       "      <th>SEX</th>\n",
       "      <th>EDUCATION</th>\n",
       "      <th>MARRIAGE</th>\n",
       "      <th>AGE</th>\n",
       "      <th>PAY_0</th>\n",
       "      <th>PAY_2</th>\n",
       "      <th>PAY_3</th>\n",
       "      <th>PAY_4</th>\n",
       "      <th>...</th>\n",
       "      <th>BILL_AMT4</th>\n",
       "      <th>BILL_AMT5</th>\n",
       "      <th>BILL_AMT6</th>\n",
       "      <th>PAY_AMT1</th>\n",
       "      <th>PAY_AMT2</th>\n",
       "      <th>PAY_AMT3</th>\n",
       "      <th>PAY_AMT4</th>\n",
       "      <th>PAY_AMT5</th>\n",
       "      <th>PAY_AMT6</th>\n",
       "      <th>default.payment.next.month</th>\n",
       "    </tr>\n",
       "  </thead>\n",
       "  <tbody>\n",
       "    <tr>\n",
       "      <th>count</th>\n",
       "      <td>30000.000000</td>\n",
       "      <td>30000.000000</td>\n",
       "      <td>30000.000000</td>\n",
       "      <td>30000.000000</td>\n",
       "      <td>30000.000000</td>\n",
       "      <td>30000.000000</td>\n",
       "      <td>30000.000000</td>\n",
       "      <td>30000.000000</td>\n",
       "      <td>30000.000000</td>\n",
       "      <td>30000.000000</td>\n",
       "      <td>...</td>\n",
       "      <td>30000.000000</td>\n",
       "      <td>30000.000000</td>\n",
       "      <td>30000.000000</td>\n",
       "      <td>30000.000000</td>\n",
       "      <td>3.000000e+04</td>\n",
       "      <td>30000.00000</td>\n",
       "      <td>30000.000000</td>\n",
       "      <td>30000.000000</td>\n",
       "      <td>30000.000000</td>\n",
       "      <td>30000.000000</td>\n",
       "    </tr>\n",
       "    <tr>\n",
       "      <th>mean</th>\n",
       "      <td>15000.500000</td>\n",
       "      <td>167484.322667</td>\n",
       "      <td>1.603733</td>\n",
       "      <td>1.853133</td>\n",
       "      <td>1.551867</td>\n",
       "      <td>35.485500</td>\n",
       "      <td>-0.016700</td>\n",
       "      <td>-0.133767</td>\n",
       "      <td>-0.166200</td>\n",
       "      <td>-0.220667</td>\n",
       "      <td>...</td>\n",
       "      <td>43262.948967</td>\n",
       "      <td>40311.400967</td>\n",
       "      <td>38871.760400</td>\n",
       "      <td>5663.580500</td>\n",
       "      <td>5.921163e+03</td>\n",
       "      <td>5225.68150</td>\n",
       "      <td>4826.076867</td>\n",
       "      <td>4799.387633</td>\n",
       "      <td>5215.502567</td>\n",
       "      <td>0.221200</td>\n",
       "    </tr>\n",
       "    <tr>\n",
       "      <th>std</th>\n",
       "      <td>8660.398374</td>\n",
       "      <td>129747.661567</td>\n",
       "      <td>0.489129</td>\n",
       "      <td>0.790349</td>\n",
       "      <td>0.521970</td>\n",
       "      <td>9.217904</td>\n",
       "      <td>1.123802</td>\n",
       "      <td>1.197186</td>\n",
       "      <td>1.196868</td>\n",
       "      <td>1.169139</td>\n",
       "      <td>...</td>\n",
       "      <td>64332.856134</td>\n",
       "      <td>60797.155770</td>\n",
       "      <td>59554.107537</td>\n",
       "      <td>16563.280354</td>\n",
       "      <td>2.304087e+04</td>\n",
       "      <td>17606.96147</td>\n",
       "      <td>15666.159744</td>\n",
       "      <td>15278.305679</td>\n",
       "      <td>17777.465775</td>\n",
       "      <td>0.415062</td>\n",
       "    </tr>\n",
       "    <tr>\n",
       "      <th>min</th>\n",
       "      <td>1.000000</td>\n",
       "      <td>10000.000000</td>\n",
       "      <td>1.000000</td>\n",
       "      <td>0.000000</td>\n",
       "      <td>0.000000</td>\n",
       "      <td>21.000000</td>\n",
       "      <td>-2.000000</td>\n",
       "      <td>-2.000000</td>\n",
       "      <td>-2.000000</td>\n",
       "      <td>-2.000000</td>\n",
       "      <td>...</td>\n",
       "      <td>-170000.000000</td>\n",
       "      <td>-81334.000000</td>\n",
       "      <td>-339603.000000</td>\n",
       "      <td>0.000000</td>\n",
       "      <td>0.000000e+00</td>\n",
       "      <td>0.00000</td>\n",
       "      <td>0.000000</td>\n",
       "      <td>0.000000</td>\n",
       "      <td>0.000000</td>\n",
       "      <td>0.000000</td>\n",
       "    </tr>\n",
       "    <tr>\n",
       "      <th>25%</th>\n",
       "      <td>7500.750000</td>\n",
       "      <td>50000.000000</td>\n",
       "      <td>1.000000</td>\n",
       "      <td>1.000000</td>\n",
       "      <td>1.000000</td>\n",
       "      <td>28.000000</td>\n",
       "      <td>-1.000000</td>\n",
       "      <td>-1.000000</td>\n",
       "      <td>-1.000000</td>\n",
       "      <td>-1.000000</td>\n",
       "      <td>...</td>\n",
       "      <td>2326.750000</td>\n",
       "      <td>1763.000000</td>\n",
       "      <td>1256.000000</td>\n",
       "      <td>1000.000000</td>\n",
       "      <td>8.330000e+02</td>\n",
       "      <td>390.00000</td>\n",
       "      <td>296.000000</td>\n",
       "      <td>252.500000</td>\n",
       "      <td>117.750000</td>\n",
       "      <td>0.000000</td>\n",
       "    </tr>\n",
       "    <tr>\n",
       "      <th>50%</th>\n",
       "      <td>15000.500000</td>\n",
       "      <td>140000.000000</td>\n",
       "      <td>2.000000</td>\n",
       "      <td>2.000000</td>\n",
       "      <td>2.000000</td>\n",
       "      <td>34.000000</td>\n",
       "      <td>0.000000</td>\n",
       "      <td>0.000000</td>\n",
       "      <td>0.000000</td>\n",
       "      <td>0.000000</td>\n",
       "      <td>...</td>\n",
       "      <td>19052.000000</td>\n",
       "      <td>18104.500000</td>\n",
       "      <td>17071.000000</td>\n",
       "      <td>2100.000000</td>\n",
       "      <td>2.009000e+03</td>\n",
       "      <td>1800.00000</td>\n",
       "      <td>1500.000000</td>\n",
       "      <td>1500.000000</td>\n",
       "      <td>1500.000000</td>\n",
       "      <td>0.000000</td>\n",
       "    </tr>\n",
       "    <tr>\n",
       "      <th>75%</th>\n",
       "      <td>22500.250000</td>\n",
       "      <td>240000.000000</td>\n",
       "      <td>2.000000</td>\n",
       "      <td>2.000000</td>\n",
       "      <td>2.000000</td>\n",
       "      <td>41.000000</td>\n",
       "      <td>0.000000</td>\n",
       "      <td>0.000000</td>\n",
       "      <td>0.000000</td>\n",
       "      <td>0.000000</td>\n",
       "      <td>...</td>\n",
       "      <td>54506.000000</td>\n",
       "      <td>50190.500000</td>\n",
       "      <td>49198.250000</td>\n",
       "      <td>5006.000000</td>\n",
       "      <td>5.000000e+03</td>\n",
       "      <td>4505.00000</td>\n",
       "      <td>4013.250000</td>\n",
       "      <td>4031.500000</td>\n",
       "      <td>4000.000000</td>\n",
       "      <td>0.000000</td>\n",
       "    </tr>\n",
       "    <tr>\n",
       "      <th>max</th>\n",
       "      <td>30000.000000</td>\n",
       "      <td>1000000.000000</td>\n",
       "      <td>2.000000</td>\n",
       "      <td>6.000000</td>\n",
       "      <td>3.000000</td>\n",
       "      <td>79.000000</td>\n",
       "      <td>8.000000</td>\n",
       "      <td>8.000000</td>\n",
       "      <td>8.000000</td>\n",
       "      <td>8.000000</td>\n",
       "      <td>...</td>\n",
       "      <td>891586.000000</td>\n",
       "      <td>927171.000000</td>\n",
       "      <td>961664.000000</td>\n",
       "      <td>873552.000000</td>\n",
       "      <td>1.684259e+06</td>\n",
       "      <td>896040.00000</td>\n",
       "      <td>621000.000000</td>\n",
       "      <td>426529.000000</td>\n",
       "      <td>528666.000000</td>\n",
       "      <td>1.000000</td>\n",
       "    </tr>\n",
       "  </tbody>\n",
       "</table>\n",
       "<p>8 rows × 25 columns</p>\n",
       "</div>"
      ],
      "text/plain": [
       "                 ID       LIMIT_BAL           SEX     EDUCATION      MARRIAGE  \\\n",
       "count  30000.000000    30000.000000  30000.000000  30000.000000  30000.000000   \n",
       "mean   15000.500000   167484.322667      1.603733      1.853133      1.551867   \n",
       "std     8660.398374   129747.661567      0.489129      0.790349      0.521970   \n",
       "min        1.000000    10000.000000      1.000000      0.000000      0.000000   \n",
       "25%     7500.750000    50000.000000      1.000000      1.000000      1.000000   \n",
       "50%    15000.500000   140000.000000      2.000000      2.000000      2.000000   \n",
       "75%    22500.250000   240000.000000      2.000000      2.000000      2.000000   \n",
       "max    30000.000000  1000000.000000      2.000000      6.000000      3.000000   \n",
       "\n",
       "                AGE         PAY_0         PAY_2         PAY_3         PAY_4  \\\n",
       "count  30000.000000  30000.000000  30000.000000  30000.000000  30000.000000   \n",
       "mean      35.485500     -0.016700     -0.133767     -0.166200     -0.220667   \n",
       "std        9.217904      1.123802      1.197186      1.196868      1.169139   \n",
       "min       21.000000     -2.000000     -2.000000     -2.000000     -2.000000   \n",
       "25%       28.000000     -1.000000     -1.000000     -1.000000     -1.000000   \n",
       "50%       34.000000      0.000000      0.000000      0.000000      0.000000   \n",
       "75%       41.000000      0.000000      0.000000      0.000000      0.000000   \n",
       "max       79.000000      8.000000      8.000000      8.000000      8.000000   \n",
       "\n",
       "       ...      BILL_AMT4      BILL_AMT5      BILL_AMT6       PAY_AMT1  \\\n",
       "count  ...   30000.000000   30000.000000   30000.000000   30000.000000   \n",
       "mean   ...   43262.948967   40311.400967   38871.760400    5663.580500   \n",
       "std    ...   64332.856134   60797.155770   59554.107537   16563.280354   \n",
       "min    ... -170000.000000  -81334.000000 -339603.000000       0.000000   \n",
       "25%    ...    2326.750000    1763.000000    1256.000000    1000.000000   \n",
       "50%    ...   19052.000000   18104.500000   17071.000000    2100.000000   \n",
       "75%    ...   54506.000000   50190.500000   49198.250000    5006.000000   \n",
       "max    ...  891586.000000  927171.000000  961664.000000  873552.000000   \n",
       "\n",
       "           PAY_AMT2      PAY_AMT3       PAY_AMT4       PAY_AMT5  \\\n",
       "count  3.000000e+04   30000.00000   30000.000000   30000.000000   \n",
       "mean   5.921163e+03    5225.68150    4826.076867    4799.387633   \n",
       "std    2.304087e+04   17606.96147   15666.159744   15278.305679   \n",
       "min    0.000000e+00       0.00000       0.000000       0.000000   \n",
       "25%    8.330000e+02     390.00000     296.000000     252.500000   \n",
       "50%    2.009000e+03    1800.00000    1500.000000    1500.000000   \n",
       "75%    5.000000e+03    4505.00000    4013.250000    4031.500000   \n",
       "max    1.684259e+06  896040.00000  621000.000000  426529.000000   \n",
       "\n",
       "            PAY_AMT6  default.payment.next.month  \n",
       "count   30000.000000                30000.000000  \n",
       "mean     5215.502567                    0.221200  \n",
       "std     17777.465775                    0.415062  \n",
       "min         0.000000                    0.000000  \n",
       "25%       117.750000                    0.000000  \n",
       "50%      1500.000000                    0.000000  \n",
       "75%      4000.000000                    0.000000  \n",
       "max    528666.000000                    1.000000  \n",
       "\n",
       "[8 rows x 25 columns]"
      ]
     },
     "execution_count": 292,
     "metadata": {},
     "output_type": "execute_result"
    }
   ],
   "source": [
    "data_df.describe()"
   ]
  },
  {
   "cell_type": "markdown",
   "metadata": {},
   "source": [
    "There are 30,000 distinct credit card clients.  \n",
    "\n",
    "As the value 0 for default payment means 'not default' and value 1 means 'default', the mean of 0.221 means that there are 22.1% of credit card contracts that will default next month (will verify this in the next sections of this analysis)."
   ]
  },
  {
   "cell_type": "markdown",
   "metadata": {},
   "source": [
    "## Checking missing data\n",
    "\n",
    "Let's check if there is any missing data."
   ]
  },
  {
   "cell_type": "code",
   "execution_count": 293,
   "metadata": {},
   "outputs": [
    {
     "name": "stdout",
     "output_type": "stream",
     "text": [
      "<class 'pandas.core.frame.DataFrame'>\n",
      "RangeIndex: 30000 entries, 0 to 29999\n",
      "Data columns (total 25 columns):\n",
      " #   Column                      Non-Null Count  Dtype  \n",
      "---  ------                      --------------  -----  \n",
      " 0   ID                          30000 non-null  int64  \n",
      " 1   LIMIT_BAL                   30000 non-null  float64\n",
      " 2   SEX                         30000 non-null  int64  \n",
      " 3   EDUCATION                   30000 non-null  int64  \n",
      " 4   MARRIAGE                    30000 non-null  int64  \n",
      " 5   AGE                         30000 non-null  int64  \n",
      " 6   PAY_0                       30000 non-null  int64  \n",
      " 7   PAY_2                       30000 non-null  int64  \n",
      " 8   PAY_3                       30000 non-null  int64  \n",
      " 9   PAY_4                       30000 non-null  int64  \n",
      " 10  PAY_5                       30000 non-null  int64  \n",
      " 11  PAY_6                       30000 non-null  int64  \n",
      " 12  BILL_AMT1                   30000 non-null  float64\n",
      " 13  BILL_AMT2                   30000 non-null  float64\n",
      " 14  BILL_AMT3                   30000 non-null  float64\n",
      " 15  BILL_AMT4                   30000 non-null  float64\n",
      " 16  BILL_AMT5                   30000 non-null  float64\n",
      " 17  BILL_AMT6                   30000 non-null  float64\n",
      " 18  PAY_AMT1                    30000 non-null  float64\n",
      " 19  PAY_AMT2                    30000 non-null  float64\n",
      " 20  PAY_AMT3                    30000 non-null  float64\n",
      " 21  PAY_AMT4                    30000 non-null  float64\n",
      " 22  PAY_AMT5                    30000 non-null  float64\n",
      " 23  PAY_AMT6                    30000 non-null  float64\n",
      " 24  default.payment.next.month  30000 non-null  int64  \n",
      "dtypes: float64(13), int64(12)\n",
      "memory usage: 5.7 MB\n"
     ]
    }
   ],
   "source": [
    "data_df.info()"
   ]
  },
  {
   "cell_type": "markdown",
   "metadata": {},
   "source": [
    "By the above information table, we find that all columns have 30000 observations. That is to say, there is no missing data problem."
   ]
  },
  {
   "cell_type": "markdown",
   "metadata": {},
   "source": [
    "## Data unbalance\n",
    "\n",
    "Let's check data unbalance with respect with target value, i.e. default.payment.next.month."
   ]
  },
  {
   "cell_type": "code",
   "execution_count": 294,
   "metadata": {},
   "outputs": [
    {
     "name": "stdout",
     "output_type": "stream",
     "text": [
      "Not_Default 23364\n",
      "Default 6636\n",
      "Default proportion 22.12%\n"
     ]
    },
    {
     "data": {
      "text/plain": [
       "<matplotlib.axes._subplots.AxesSubplot at 0x13664ed90>"
      ]
     },
     "execution_count": 294,
     "metadata": {},
     "output_type": "execute_result"
    },
    {
     "data": {
      "image/png": "[encoded data removed]",
      "text/plain": [
       "<Figure size 720x360 with 1 Axes>"
      ]
     },
     "metadata": {
      "needs_background": "light"
     },
     "output_type": "display_data"
    }
   ],
   "source": [
    "# The proportion of each target class\n",
    "\n",
    "Not_Default,Default = data_df[\"default.payment.next.month\"].value_counts()\n",
    "print(f'Not_Default {Not_Default}')\n",
    "print(f'Default {Default}')\n",
    "print(f'Default proportion {round((100*Default/(Default+Not_Default)),2)}%')\n",
    "plt.figure(figsize=(10,5))\n",
    "sns.countplot(data_df['default.payment.next.month'])"
   ]
  },
  {
   "cell_type": "markdown",
   "metadata": {},
   "source": [
    "According to above information, a number of 6,636 out of 30,000 (or 22%) of clients will default next month. \n",
    "\n",
    "The data has a unbalance with respect of the target value (default.payment.next.month).\n",
    "\n",
    "This might be a problem for our DNN models."
   ]
  },
  {
   "cell_type": "markdown",
   "metadata": {},
   "source": [
    "# Explosive Data exploration"
   ]
  },
  {
   "cell_type": "markdown",
   "metadata": {},
   "source": [
    "## Features correlation\n",
    "\n",
    "\n",
    "For the numeric values, let's represent the features correlation.\n",
    "\n",
    "\n",
    "Let's check the correlation of Amount of bill statement in April - September 2005."
   ]
  },
  {
   "cell_type": "code",
   "execution_count": 513,
   "metadata": {},
   "outputs": [
    {
     "data": {
      "image/png": "[encoded data removed]",
      "text/plain": [
       "<Figure size 720x576 with 2 Axes>"
      ]
     },
     "metadata": {
      "needs_background": "light"
     },
     "output_type": "display_data"
    }
   ],
   "source": [
    "var = ['BILL_AMT1','BILL_AMT2','BILL_AMT3','BILL_AMT4','BILL_AMT5','BILL_AMT6','default.payment.next.month']\n",
    "\n",
    "plt.figure(figsize=(10,8))  \n",
    "sns.heatmap(data_df[var].corr(),cmap='Accent',annot=True)\n",
    "plt.title('Amount of bill statement (Apr-Sept) \\ncorrelation plot')\n",
    "plt.show()"
   ]
  },
  {
   "cell_type": "markdown",
   "metadata": {},
   "source": [
    "Correlation is decreasing with distance between months. Lowest correlations are between Sept-April.\n",
    "\n",
    "\n",
    "Let's check the correlation of Amount of previous payment in April - September 2005."
   ]
  },
  {
   "cell_type": "code",
   "execution_count": 512,
   "metadata": {},
   "outputs": [
    {
     "data": {
      "image/png": "[encoded data removed]",
      "text/plain": [
       "<Figure size 720x576 with 2 Axes>"
      ]
     },
     "metadata": {
      "needs_background": "light"
     },
     "output_type": "display_data"
    }
   ],
   "source": [
    "var = ['PAY_AMT1', 'PAY_AMT2', 'PAY_AMT3', 'PAY_AMT4', 'PAY_AMT5','default.payment.next.month']\n",
    "\n",
    "plt.figure(figsize=(10,8))  \n",
    "sns.heatmap(data_df[var].corr(),cmap='Accent',annot=True)\n",
    "plt.title('Amount of previous payment (Apr-Sept) \\ncorrelation plot (Pearson)')\n",
    "plt.show()"
   ]
  },
  {
   "cell_type": "markdown",
   "metadata": {},
   "source": [
    "There are no correlations between amounts of previous payments for April-Sept 2005.\n",
    "\n",
    "Let's check the correlation between Repayment status in April - September 2005."
   ]
  },
  {
   "cell_type": "code",
   "execution_count": 514,
   "metadata": {},
   "outputs": [
    {
     "data": {
      "image/png": "[encoded data removed]",
      "text/plain": [
       "<Figure size 720x576 with 2 Axes>"
      ]
     },
     "metadata": {
      "needs_background": "light"
     },
     "output_type": "display_data"
    }
   ],
   "source": [
    "var = ['PAY_0','PAY_2', 'PAY_3', 'PAY_4', 'PAY_5', 'PAY_6','default.payment.next.month']\n",
    "\n",
    "plt.figure(figsize=(10,8))  \n",
    "sns.heatmap(data_df[var].corr(),cmap='Accent',annot=True)\n",
    "plt.title('Repayment status (Apr-Sept) \\ncorrelation plot')\n",
    "plt.show()"
   ]
  },
  {
   "cell_type": "markdown",
   "metadata": {},
   "source": [
    "Correlation is decreasing with distance between months. Lowest correlations are between Sept-April."
   ]
  },
  {
   "cell_type": "markdown",
   "metadata": {},
   "source": [
    "## Sex"
   ]
  },
  {
   "cell_type": "code",
   "execution_count": 298,
   "metadata": {},
   "outputs": [
    {
     "data": {
      "text/plain": [
       "[Text(0, 0, 'male'), Text(0, 0, 'female')]"
      ]
     },
     "execution_count": 298,
     "metadata": {},
     "output_type": "execute_result"
    },
    {
     "data": {
      "image/png": "[encoded data removed]",
      "text/plain": [
       "<Figure size 720x360 with 1 Axes>"
      ]
     },
     "metadata": {
      "needs_background": "light"
     },
     "output_type": "display_data"
    }
   ],
   "source": [
    "plt.figure(figsize=(10,5))\n",
    "ax = sns.barplot(x='SEX',y='default.payment.next.month',data=data_df)\n",
    "ax.set(ylabel='Fraction of default next month')\n",
    "ax.set(xlabel='Sex')\n",
    "ax.set_xticklabels(['male','female'])"
   ]
  },
  {
   "cell_type": "markdown",
   "metadata": {},
   "source": [
    "## Education"
   ]
  },
  {
   "cell_type": "code",
   "execution_count": 299,
   "metadata": {},
   "outputs": [
    {
     "data": {
      "text/plain": [
       "[Text(0.5, 0, 'Education')]"
      ]
     },
     "execution_count": 299,
     "metadata": {},
     "output_type": "execute_result"
    },
    {
     "data": {
      "image/png": "[encoded data removed]",
      "text/plain": [
       "<Figure size 720x360 with 1 Axes>"
      ]
     },
     "metadata": {
      "needs_background": "light"
     },
     "output_type": "display_data"
    }
   ],
   "source": [
    "plt.figure(figsize=(10,5))\n",
    "ax = sns.barplot(x='EDUCATION',y='default.payment.next.month',data=data_df)\n",
    "ax.set(ylabel='Fraction of default next month')\n",
    "ax.set(xlabel='Education')"
   ]
  },
  {
   "cell_type": "markdown",
   "metadata": {},
   "source": [
    "## Marriage"
   ]
  },
  {
   "cell_type": "code",
   "execution_count": 300,
   "metadata": {},
   "outputs": [
    {
     "data": {
      "text/plain": [
       "[Text(0.5, 0, 'MARRIAGE: 1=married, 2=single, 3=others')]"
      ]
     },
     "execution_count": 300,
     "metadata": {},
     "output_type": "execute_result"
    },
    {
     "data": {
      "image/png": "[encoded data removed]",
      "text/plain": [
       "<Figure size 720x360 with 1 Axes>"
      ]
     },
     "metadata": {
      "needs_background": "light"
     },
     "output_type": "display_data"
    }
   ],
   "source": [
    "plt.figure(figsize=(10,5))\n",
    "ax = sns.barplot(x='MARRIAGE',y='default.payment.next.month',data=data_df)\n",
    "ax.set(ylabel='Fraction of default next month')\n",
    "ax.set(xlabel='MARRIAGE: 1=married, 2=single, 3=others')"
   ]
  },
  {
   "cell_type": "markdown",
   "metadata": {},
   "source": [
    "## Training set, validation set, and testing set.\n",
    "\n",
    "Let's define training set, validation set, and testing set."
   ]
  },
  {
   "cell_type": "code",
   "execution_count": 301,
   "metadata": {},
   "outputs": [],
   "source": [
    "# Split data_df into training set and testing set\n",
    "train_df, test_df = train_test_split(data_df, test_size=TEST_SIZE, random_state=RANDOM_STATE, shuffle=True )\n",
    "\n",
    "# Split training set into partial training set and validation set.\n",
    "par_train_df, val_df = train_test_split(train_df,test_size=TEST_SIZE, random_state=RANDOM_STATE, shuffle=True )"
   ]
  },
  {
   "cell_type": "markdown",
   "metadata": {},
   "source": [
    "## Define predictors and target values\n",
    "\n",
    "Let's define the predictor features and the target features. Categorical features, if any, are also defined. In our case, there are no categorical feature."
   ]
  },
  {
   "cell_type": "code",
   "execution_count": 302,
   "metadata": {},
   "outputs": [],
   "source": [
    "target = 'default.payment.next.month'\n",
    "predictors = ['LIMIT_BAL', 'AGE', 'PAY_0', 'PAY_2', 'PAY_3', 'PAY_4', 'PAY_5',\n",
    "       'PAY_6', 'BILL_AMT1', 'BILL_AMT2', 'BILL_AMT3', 'BILL_AMT4',\n",
    "       'BILL_AMT5', 'BILL_AMT6', 'PAY_AMT1', 'PAY_AMT2', 'PAY_AMT3',\n",
    "       'PAY_AMT4', 'PAY_AMT5', 'PAY_AMT6',\n",
    "       'EDUCATION', 'SEX',\n",
    "       'MARRIAGE']\n",
    "\n",
    "# Define categorical features for catboost and LightGBM\n",
    "categorical_features =['EDUCATION', 'SEX','MARRIAGE',\n",
    "                       'PAY_0', 'PAY_2', 'PAY_3', 'PAY_4', 'PAY_5','PAY_6',]"
   ]
  },
  {
   "cell_type": "code",
   "execution_count": 303,
   "metadata": {},
   "outputs": [],
   "source": [
    "# The whole training set\n",
    "train_X = train_df[predictors]\n",
    "train_Y = train_df[target]\n",
    "\n",
    "# Partial training set\n",
    "par_train_X = par_train_df[predictors]\n",
    "par_train_Y = par_train_df[target]\n",
    "\n",
    "# Validation set\n",
    "val_X = val_df[predictors]\n",
    "val_Y = val_df[target]\n",
    "\n",
    "# Test set\n",
    "test_X = test_df[predictors]\n",
    "test_Y = test_df[target]"
   ]
  },
  {
   "cell_type": "markdown",
   "metadata": {},
   "source": [
    "## One-hot encoder\n",
    "\n",
    "For xgboost and DNN model, we have use one-hot encoding to encode some categorical variables.\n",
    "\n",
    "Let's look at columns of our dataset."
   ]
  },
  {
   "cell_type": "code",
   "execution_count": 304,
   "metadata": {},
   "outputs": [
    {
     "data": {
      "text/plain": [
       "Index(['ID', 'LIMIT_BAL', 'SEX', 'EDUCATION', 'MARRIAGE', 'AGE', 'PAY_0',\n",
       "       'PAY_2', 'PAY_3', 'PAY_4', 'PAY_5', 'PAY_6', 'BILL_AMT1', 'BILL_AMT2',\n",
       "       'BILL_AMT3', 'BILL_AMT4', 'BILL_AMT5', 'BILL_AMT6', 'PAY_AMT1',\n",
       "       'PAY_AMT2', 'PAY_AMT3', 'PAY_AMT4', 'PAY_AMT5', 'PAY_AMT6',\n",
       "       'default.payment.next.month'],\n",
       "      dtype='object')"
      ]
     },
     "execution_count": 304,
     "metadata": {},
     "output_type": "execute_result"
    }
   ],
   "source": [
    "data_df.columns"
   ]
  },
  {
   "cell_type": "markdown",
   "metadata": {},
   "source": [
    "\n",
    "There are some categorical features in our data: SEX, EDUCATION, MARRIAGE, AGE, PAY_0, PAY_2, PAY_3, PAY_4, PAY_5, PAY_6\n",
    "\n",
    "Here are their definitions:\n",
    "\n",
    "SEX: Gender (1=male, 2=female)\n",
    "\n",
    "EDUCATION: (1=graduate school, 2=university, 3=high school, 4=others, 5=unknown, 6=unknown)\n",
    "\n",
    "MARRIAGE: Marital status (1=married, 2=single, 3=others)\n",
    "\n",
    "PAY_0: Repayment status in September, 2005 (-1=pay duly, 1=payment delay for one month, 2=payment delay for two months, ... 8=payment delay for eight months, 9=payment delay for nine months and above)\n",
    "\n",
    "PAY_2: Repayment status in August, 2005 (scale same as above)\n",
    "\n",
    "PAY_3: Repayment status in July, 2005 (scale same as above)\n",
    "\n",
    "PAY_4: Repayment status in June, 2005 (scale same as above)\n",
    "\n",
    "PAY_5: Repayment status in May, 2005 (scale same as above)\n",
    "\n",
    "PAY_6: Repayment status in April, 2005 (scale same as above)"
   ]
  },
  {
   "cell_type": "markdown",
   "metadata": {},
   "source": [
    "For PAY_0, PAY_2, PAY_3, PAY_4, PAY_5, PAY_6, these categorical features are ordinal. So label encoding is suitable for these features.\n",
    "\n",
    "For SEX, EDUCATION, MARRIAGE, I will use one-hot encoding."
   ]
  },
  {
   "cell_type": "code",
   "execution_count": 305,
   "metadata": {},
   "outputs": [],
   "source": [
    "OH_features = ['EDUCATION', 'SEX', 'MARRIAGE']\n",
    "\n",
    "OH_train_X = pd.get_dummies(train_X, columns = OH_features)\n",
    "OH_par_train_X = pd.get_dummies(par_train_X, columns = OH_features)\n",
    "OH_val_X = pd.get_dummies(val_X, columns = OH_features)\n",
    "OH_test_X = pd.get_dummies(test_X, columns = OH_features)"
   ]
  },
  {
   "cell_type": "code",
   "execution_count": 306,
   "metadata": {},
   "outputs": [
    {
     "data": {
      "text/plain": [
       "Index(['LIMIT_BAL', 'AGE', 'PAY_0', 'PAY_2', 'PAY_3', 'PAY_4', 'PAY_5',\n",
       "       'PAY_6', 'BILL_AMT1', 'BILL_AMT2', 'BILL_AMT3', 'BILL_AMT4',\n",
       "       'BILL_AMT5', 'BILL_AMT6', 'PAY_AMT1', 'PAY_AMT2', 'PAY_AMT3',\n",
       "       'PAY_AMT4', 'PAY_AMT5', 'PAY_AMT6', 'EDUCATION_0', 'EDUCATION_1',\n",
       "       'EDUCATION_2', 'EDUCATION_3', 'EDUCATION_4', 'EDUCATION_5',\n",
       "       'EDUCATION_6', 'SEX_1', 'SEX_2', 'MARRIAGE_0', 'MARRIAGE_1',\n",
       "       'MARRIAGE_2', 'MARRIAGE_3'],\n",
       "      dtype='object')"
      ]
     },
     "execution_count": 306,
     "metadata": {},
     "output_type": "execute_result"
    }
   ],
   "source": [
    "OH_train_X.columns"
   ]
  },
  {
   "cell_type": "code",
   "execution_count": 307,
   "metadata": {},
   "outputs": [],
   "source": [
    "OH_predictors = ['LIMIT_BAL', 'AGE', 'PAY_0', 'PAY_2', 'PAY_3', 'PAY_4', 'PAY_5',\n",
    "       'PAY_6', 'BILL_AMT1', 'BILL_AMT2', 'BILL_AMT3', 'BILL_AMT4',\n",
    "       'BILL_AMT5', 'BILL_AMT6', 'PAY_AMT1', 'PAY_AMT2', 'PAY_AMT3',\n",
    "       'PAY_AMT4', 'PAY_AMT5', 'PAY_AMT6', 'EDUCATION_0', 'EDUCATION_1',\n",
    "       'EDUCATION_2', 'EDUCATION_3', 'EDUCATION_4', 'EDUCATION_5',\n",
    "       'EDUCATION_6', 'SEX_1', 'SEX_2', 'MARRIAGE_0', 'MARRIAGE_1',\n",
    "       'MARRIAGE_2', 'MARRIAGE_3']"
   ]
  },
  {
   "cell_type": "markdown",
   "metadata": {},
   "source": [
    "# Predictive models"
   ]
  },
  {
   "cell_type": "markdown",
   "metadata": {},
   "source": [
    "## Choosing a measure of success: metric \n",
    "\n",
    "I will use some common metric in this report: accuracy, recall, precision, F1 score.\n",
    "\n",
    "I use recall, precision, F1 score because our target class is some kind of imbalance."
   ]
  },
  {
   "cell_type": "code",
   "execution_count": 308,
   "metadata": {},
   "outputs": [],
   "source": [
    "from sklearn.metrics import accuracy_score\n",
    "from sklearn.metrics import precision_score\n",
    "from sklearn.metrics import recall_score\n",
    "from sklearn.metrics import f1_score #The F-Measure is a popular metric for imbalanced classification.\n",
    "from sklearn.metrics import confusion_matrix\n",
    "from sklearn.metrics import roc_auc_score"
   ]
  },
  {
   "cell_type": "markdown",
   "metadata": {},
   "source": [
    "# CatBoostClassifier\n",
    "CatBoostClassifier is a gradient boosting for decision trees algorithm with support for handling categorical data\n",
    "\n",
    "## Prepare the model\n",
    "\n",
    "Let's set the parameters for the model and initialize the model."
   ]
  },
  {
   "cell_type": "code",
   "execution_count": 262,
   "metadata": {},
   "outputs": [],
   "source": [
    "clf = CatBoostClassifier(iterations=500,\n",
    "                             learning_rate=0.02,\n",
    "                             depth=12,\n",
    "                             eval_metric='F1',\n",
    "                             random_seed = RANDOM_STATE,\n",
    "                             bagging_temperature = 0.2,\n",
    "                             od_type='Iter',\n",
    "                             metric_period = VERBOSE_EVAL, #這個參數是為了不要顯示太多行結果\n",
    "                             od_wait=100)"
   ]
  },
  {
   "cell_type": "markdown",
   "metadata": {},
   "source": [
    "## Fit CatBoost\n",
    "\n",
    "Note that we use the **\"categorical_feature\"** in our fitting process."
   ]
  },
  {
   "cell_type": "code",
   "execution_count": 263,
   "metadata": {},
   "outputs": [
    {
     "name": "stderr",
     "output_type": "stream",
     "text": [
      "Warning: Overfitting detector is active, thus evaluation metric is calculated on every iteration. 'metric_period' is ignored for evaluation metric.\n"
     ]
    },
    {
     "name": "stdout",
     "output_type": "stream",
     "text": [
      "0:\tlearn: 0.4308878\ttest: 0.4436137\tbest: 0.4436137 (0)\ttotal: 63.1ms\tremaining: 31.5s\n",
      "50:\tlearn: 0.5020447\ttest: 0.4472362\tbest: 0.4487744 (48)\ttotal: 23.9s\tremaining: 3m 30s\n",
      "100:\tlearn: 0.5554865\ttest: 0.4542626\tbest: 0.4542626 (100)\ttotal: 56.8s\tremaining: 3m 44s\n",
      "150:\tlearn: 0.5907186\ttest: 0.4462399\tbest: 0.4548287 (110)\ttotal: 1m 22s\tremaining: 3m 9s\n",
      "200:\tlearn: 0.6084542\ttest: 0.4491055\tbest: 0.4548287 (110)\ttotal: 1m 49s\tremaining: 2m 45s\n",
      "Stopped by overfitting detector  (100 iterations wait)\n",
      "\n",
      "bestTest = 0.4548286604\n",
      "bestIteration = 110\n",
      "\n",
      "Shrink model to first 111 iterations.\n"
     ]
    },
    {
     "data": {
      "text/plain": [
       "<catboost.core.CatBoostClassifier at 0x13f550650>"
      ]
     },
     "execution_count": 263,
     "metadata": {},
     "output_type": "execute_result"
    }
   ],
   "source": [
    "clf.fit(par_train_X, par_train_Y.values,cat_features=categorical_features,eval_set=(val_X,val_Y),verbose=True)"
   ]
  },
  {
   "cell_type": "markdown",
   "metadata": {},
   "source": [
    "## Features importance\n",
    "\n",
    "Let's see the features importance."
   ]
  },
  {
   "cell_type": "code",
   "execution_count": null,
   "metadata": {},
   "outputs": [
    {
     "data": {
      "image/png": "[encoded data removed]",
      "text/plain": [
       "<Figure size 504x288 with 1 Axes>"
      ]
     },
     "metadata": {
      "needs_background": "light"
     },
     "output_type": "display_data"
    }
   ],
   "source": [
    "tmp = pd.DataFrame({'Feature': predictors, 'Feature importance': clf.feature_importances_})\n",
    "tmp = tmp.sort_values(by='Feature importance',ascending=False)\n",
    "plt.figure(figsize = (7,4))\n",
    "plt.title('Features importance',fontsize=14)\n",
    "s = sns.barplot(x='Feature',y='Feature importance',data=tmp)\n",
    "s.set_xticklabels(s.get_xticklabels(),rotation=90)\n",
    "plt.show()   "
   ]
  },
  {
   "cell_type": "markdown",
   "metadata": {},
   "source": [
    "## Predict the target values\n",
    "\n",
    "Let's now predict the **target** values for the **val_df** data, using predict function."
   ]
  },
  {
   "cell_type": "code",
   "execution_count": 233,
   "metadata": {},
   "outputs": [
    {
     "name": "stderr",
     "output_type": "stream",
     "text": [
      "Warning: Overfitting detector is active, thus evaluation metric is calculated on every iteration. 'metric_period' is ignored for evaluation metric.\n"
     ]
    },
    {
     "name": "stdout",
     "output_type": "stream",
     "text": [
      "0:\tlearn: 0.4706761\ttest: 0.4577861\tbest: 0.4577861 (0)\ttotal: 421ms\tremaining: 3m 30s\n",
      "50:\tlearn: 0.5065732\ttest: 0.4962406\tbest: 0.4962406 (50)\ttotal: 19s\tremaining: 2m 47s\n",
      "100:\tlearn: 0.5423010\ttest: 0.5321674\tbest: 0.5321674 (100)\ttotal: 37.3s\tremaining: 2m 27s\n",
      "150:\tlearn: 0.5755021\ttest: 0.5673671\tbest: 0.5682520 (146)\ttotal: 55.8s\tremaining: 2m 9s\n",
      "200:\tlearn: 0.5968457\ttest: 0.5888138\tbest: 0.5888138 (200)\ttotal: 1m 15s\tremaining: 1m 51s\n",
      "250:\tlearn: 0.6179817\ttest: 0.6107711\tbest: 0.6107711 (250)\ttotal: 1m 34s\tremaining: 1m 34s\n",
      "300:\tlearn: 0.6360871\ttest: 0.6252285\tbest: 0.6252285 (300)\ttotal: 1m 54s\tremaining: 1m 15s\n",
      "350:\tlearn: 0.6526367\ttest: 0.6363636\tbest: 0.6363636 (350)\ttotal: 2m 13s\tremaining: 56.8s\n",
      "400:\tlearn: 0.6730608\ttest: 0.6598802\tbest: 0.6598802 (399)\ttotal: 2m 32s\tremaining: 37.8s\n",
      "450:\tlearn: 0.6936595\ttest: 0.6769231\tbest: 0.6769231 (450)\ttotal: 2m 52s\tremaining: 18.8s\n",
      "499:\tlearn: 0.7113826\ttest: 0.6996508\tbest: 0.7012231 (495)\ttotal: 3m 12s\tremaining: 0us\n",
      "\n",
      "bestTest = 0.7012230635\n",
      "bestIteration = 495\n",
      "\n",
      "Shrink model to first 496 iterations.\n"
     ]
    }
   ],
   "source": [
    "# Use the whole training data to trian our model\n",
    "clf = CatBoostClassifier(iterations=500,\n",
    "                             learning_rate=0.02,\n",
    "                             depth=12,\n",
    "                             eval_metric='F1',\n",
    "                             random_seed = RANDOM_STATE,\n",
    "                             bagging_temperature = 0.2,\n",
    "                             od_type='Iter',\n",
    "                             metric_period = VERBOSE_EVAL, #這個參數是為了不要顯示太多行結果\n",
    "                             od_wait=100)\n",
    "\n",
    "clf.fit(train_X, train_Y.values,eval_set=(val_X,val_Y),verbose=True)\n",
    "\n",
    "# predict\n",
    "preds_Y = clf.predict(test_X)"
   ]
  },
  {
   "cell_type": "markdown",
   "metadata": {},
   "source": [
    "## Confusion matrix, accuracy, precision, recall, F1 score"
   ]
  },
  {
   "cell_type": "code",
   "execution_count": 234,
   "metadata": {},
   "outputs": [
    {
     "name": "stdout",
     "output_type": "stream",
     "text": [
      "accuracy: 0.8221666666666667\n",
      "\n",
      "precision: 0.7217261904761905\n",
      "\n",
      "recall: 0.3553113553113553\n",
      "\n",
      "F1 score: 0.47619047619047616\n",
      "\n",
      "Confusion matrix: \n",
      "[[4448  187]\n",
      " [ 880  485]]\n"
     ]
    }
   ],
   "source": [
    "accuracy = accuracy_score(test_Y, preds_Y)\n",
    "precision = precision_score(test_Y, preds_Y)\n",
    "recall = recall_score(test_Y, preds_Y)\n",
    "f1 = f1_score(test_Y, preds_Y)\n",
    "c_matrix = confusion_matrix(test_Y, preds_Y)\n",
    "print('accuracy: '+str(accuracy)+'\\n')\n",
    "print('precision: '+str(precision)+'\\n')\n",
    "print('recall: '+str(recall)+'\\n')\n",
    "print('F1 score: '+str(f1)+'\\n')\n",
    "print('Confusion matrix: ')\n",
    "print(c_matrix)"
   ]
  },
  {
   "cell_type": "markdown",
   "metadata": {},
   "source": [
    "# XGBoostClassifier\n",
    "XGBoostClassifier is a gradient boosting for decision trees algorithm with support for handling categorical data\n",
    "\n",
    "## Prepare and fit the model"
   ]
  },
  {
   "cell_type": "code",
   "execution_count": 270,
   "metadata": {},
   "outputs": [
    {
     "name": "stdout",
     "output_type": "stream",
     "text": [
      "[0]\tvalidation_0-error:0.16969\tvalidation_1-error:0.18396\n",
      "Multiple eval metrics have been passed: 'validation_1-error' will be used for early stopping.\n",
      "\n",
      "Will train until validation_1-error hasn't improved in 10 rounds.\n",
      "[1]\tvalidation_0-error:0.16974\tvalidation_1-error:0.18396\n",
      "[2]\tvalidation_0-error:0.16964\tvalidation_1-error:0.18396\n",
      "[3]\tvalidation_0-error:0.16984\tvalidation_1-error:0.18396\n",
      "[4]\tvalidation_0-error:0.16990\tvalidation_1-error:0.18396\n",
      "[5]\tvalidation_0-error:0.16990\tvalidation_1-error:0.18396\n",
      "[6]\tvalidation_0-error:0.16906\tvalidation_1-error:0.18354\n",
      "[7]\tvalidation_0-error:0.16953\tvalidation_1-error:0.18354\n",
      "[8]\tvalidation_0-error:0.16891\tvalidation_1-error:0.18333\n",
      "[9]\tvalidation_0-error:0.16891\tvalidation_1-error:0.18333\n",
      "[10]\tvalidation_0-error:0.16885\tvalidation_1-error:0.18333\n",
      "[11]\tvalidation_0-error:0.16875\tvalidation_1-error:0.18313\n",
      "[12]\tvalidation_0-error:0.16870\tvalidation_1-error:0.18313\n",
      "[13]\tvalidation_0-error:0.16875\tvalidation_1-error:0.18271\n",
      "[14]\tvalidation_0-error:0.16859\tvalidation_1-error:0.18354\n",
      "[15]\tvalidation_0-error:0.16818\tvalidation_1-error:0.18438\n",
      "[16]\tvalidation_0-error:0.16854\tvalidation_1-error:0.18458\n",
      "[17]\tvalidation_0-error:0.16844\tvalidation_1-error:0.18479\n",
      "[18]\tvalidation_0-error:0.16849\tvalidation_1-error:0.18354\n",
      "[19]\tvalidation_0-error:0.16823\tvalidation_1-error:0.18375\n",
      "[20]\tvalidation_0-error:0.16771\tvalidation_1-error:0.18354\n",
      "[21]\tvalidation_0-error:0.16807\tvalidation_1-error:0.18354\n",
      "[22]\tvalidation_0-error:0.16781\tvalidation_1-error:0.18333\n",
      "[23]\tvalidation_0-error:0.16771\tvalidation_1-error:0.18354\n",
      "Stopping. Best iteration:\n",
      "[13]\tvalidation_0-error:0.16875\tvalidation_1-error:0.18271\n",
      "\n"
     ]
    },
    {
     "data": {
      "text/plain": [
       "XGBClassifier(base_score=0.5, booster=None, colsample_bylevel=1,\n",
       "              colsample_bynode=1, colsample_bytree=1, gamma=0, gpu_id=-1,\n",
       "              importance_type='gain', interaction_constraints=None,\n",
       "              learning_rate=0.02, max_delta_step=0, max_depth=6,\n",
       "              min_child_weight=1, missing=nan, monotone_constraints=None,\n",
       "              n_estimators=100, n_jobs=0, num_parallel_tree=1,\n",
       "              objective='binary:logistic', random_state=0, reg_alpha=0,\n",
       "              reg_lambda=1, scale_pos_weight=1, subsample=1, tree_method=None,\n",
       "              validate_parameters=False, verbosity=None)"
      ]
     },
     "execution_count": 270,
     "metadata": {},
     "output_type": "execute_result"
    }
   ],
   "source": [
    "clf = xgb.XGBClassifier(learning_rate=0.02)\n",
    "clf.fit(par_train_X, par_train_Y,eval_set=[(par_train_X,par_train_Y),(val_X,val_Y)],early_stopping_rounds=10, verbose=True)"
   ]
  },
  {
   "cell_type": "markdown",
   "metadata": {},
   "source": [
    "## Features importance\n",
    "\n",
    "Let's see the features importance."
   ]
  },
  {
   "cell_type": "code",
   "execution_count": 271,
   "metadata": {},
   "outputs": [
    {
     "data": {
      "text/plain": [
       "array([0.00948596, 0.00432746, 0.7013907 , 0.11981683, 0.01353244,\n",
       "       0.01157393, 0.02505312, 0.01070786, 0.01198352, 0.00545711,\n",
       "       0.00460776, 0.00524404, 0.00365825, 0.005003  , 0.00591743,\n",
       "       0.00847558, 0.02381752, 0.00598348, 0.00435658, 0.00531497,\n",
       "       0.00706675, 0.        , 0.00722563], dtype=float32)"
      ]
     },
     "execution_count": 271,
     "metadata": {},
     "output_type": "execute_result"
    }
   ],
   "source": [
    "clf.feature_importances_"
   ]
  },
  {
   "cell_type": "code",
   "execution_count": 274,
   "metadata": {},
   "outputs": [
    {
     "data": {
      "text/plain": [
       "<matplotlib.axes._subplots.AxesSubplot at 0x137398450>"
      ]
     },
     "execution_count": 274,
     "metadata": {},
     "output_type": "execute_result"
    },
    {
     "data": {
      "image/png": "[encoded data removed]",
      "text/plain": [
       "<Figure size 720x720 with 1 Axes>"
      ]
     },
     "metadata": {
      "needs_background": "light"
     },
     "output_type": "display_data"
    }
   ],
   "source": [
    "fig,ax = plt.subplots(figsize=(10,10))\n",
    "xgb.plot_importance(clf,height=0.5,ax=ax)"
   ]
  },
  {
   "cell_type": "markdown",
   "metadata": {},
   "source": [
    "## Predict the target values"
   ]
  },
  {
   "cell_type": "code",
   "execution_count": 269,
   "metadata": {},
   "outputs": [],
   "source": [
    "# Use the whole data set to train our model\n",
    "clf.fit(OH_train_X, train_Y)\n",
    "\n",
    "# predict the results\n",
    "preds_Y=clf.predict(OH_test_X)"
   ]
  },
  {
   "cell_type": "markdown",
   "metadata": {},
   "source": [
    "## Confusion matrix, accuracy, precision, recall, F1 score"
   ]
  },
  {
   "cell_type": "code",
   "execution_count": 251,
   "metadata": {},
   "outputs": [
    {
     "name": "stdout",
     "output_type": "stream",
     "text": [
      "accuracy: 0.8188333333333333\n",
      "\n",
      "precision: 0.7044117647058824\n",
      "\n",
      "recall: 0.3509157509157509\n",
      "\n",
      "F1 score: 0.4684596577017115\n",
      "\n",
      "Confusion matrix: \n",
      "[[4434  201]\n",
      " [ 886  479]]\n"
     ]
    }
   ],
   "source": [
    "preds_Y=(preds_Y>0.5).astype(int)\n",
    "\n",
    "accuracy = accuracy_score(test_Y, preds_Y)\n",
    "precision = precision_score(test_Y, preds_Y)\n",
    "recall = recall_score(test_Y, preds_Y)\n",
    "f1 = f1_score(test_Y, preds_Y)\n",
    "c_matrix = confusion_matrix(test_Y, preds_Y)\n",
    "print('accuracy: '+str(accuracy)+'\\n')\n",
    "print('precision: '+str(precision)+'\\n')\n",
    "print('recall: '+str(recall)+'\\n')\n",
    "print('F1 score: '+str(f1)+'\\n')\n",
    "print('Confusion matrix: ')\n",
    "print(c_matrix)"
   ]
  },
  {
   "cell_type": "markdown",
   "metadata": {},
   "source": [
    "# LightBGM Classifier\n",
    "\n",
    "Let's continue with LightGBM classifier."
   ]
  },
  {
   "cell_type": "markdown",
   "metadata": {},
   "source": [
    "## Prepare and fit the model\n",
    "\n",
    "Note that we use the \"categorical_feature\" parameter."
   ]
  },
  {
   "cell_type": "code",
   "execution_count": 276,
   "metadata": {},
   "outputs": [
    {
     "name": "stderr",
     "output_type": "stream",
     "text": [
      "/opt/anaconda3/lib/python3.7/site-packages/lightgbm/basic.py:1295: UserWarning: categorical_feature in Dataset is overridden.\n",
      "New categorical_feature is ['EDUCATION', 'MARRIAGE', 'PAY_0', 'PAY_2', 'PAY_3', 'PAY_4', 'PAY_5', 'PAY_6', 'SEX']\n",
      "  'New categorical_feature is {}'.format(sorted(list(categorical_feature))))\n"
     ]
    },
    {
     "name": "stdout",
     "output_type": "stream",
     "text": [
      "[1]\ttraining's binary_logloss: 0.50461\tvalid_1's binary_logloss: 0.510877\n",
      "Training until validation scores don't improve for 10 rounds\n",
      "[2]\ttraining's binary_logloss: 0.489156\tvalid_1's binary_logloss: 0.496524\n",
      "[3]\ttraining's binary_logloss: 0.476756\tvalid_1's binary_logloss: 0.485603\n",
      "[4]\ttraining's binary_logloss: 0.466744\tvalid_1's binary_logloss: 0.476619\n",
      "[5]\ttraining's binary_logloss: 0.458496\tvalid_1's binary_logloss: 0.469308\n",
      "[6]\ttraining's binary_logloss: 0.451498\tvalid_1's binary_logloss: 0.463626\n",
      "[7]\ttraining's binary_logloss: 0.445647\tvalid_1's binary_logloss: 0.458814\n",
      "[8]\ttraining's binary_logloss: 0.440528\tvalid_1's binary_logloss: 0.454839\n",
      "[9]\ttraining's binary_logloss: 0.436143\tvalid_1's binary_logloss: 0.451608\n",
      "[10]\ttraining's binary_logloss: 0.432177\tvalid_1's binary_logloss: 0.449173\n",
      "[11]\ttraining's binary_logloss: 0.428814\tvalid_1's binary_logloss: 0.447153\n",
      "[12]\ttraining's binary_logloss: 0.425591\tvalid_1's binary_logloss: 0.444943\n",
      "[13]\ttraining's binary_logloss: 0.422904\tvalid_1's binary_logloss: 0.443788\n",
      "[14]\ttraining's binary_logloss: 0.420429\tvalid_1's binary_logloss: 0.442844\n",
      "[15]\ttraining's binary_logloss: 0.417866\tvalid_1's binary_logloss: 0.441797\n",
      "[16]\ttraining's binary_logloss: 0.415732\tvalid_1's binary_logloss: 0.440961\n",
      "[17]\ttraining's binary_logloss: 0.413664\tvalid_1's binary_logloss: 0.440025\n",
      "[18]\ttraining's binary_logloss: 0.411787\tvalid_1's binary_logloss: 0.439451\n",
      "[19]\ttraining's binary_logloss: 0.409948\tvalid_1's binary_logloss: 0.438978\n",
      "[20]\ttraining's binary_logloss: 0.408402\tvalid_1's binary_logloss: 0.438813\n",
      "[21]\ttraining's binary_logloss: 0.406766\tvalid_1's binary_logloss: 0.438309\n",
      "[22]\ttraining's binary_logloss: 0.405281\tvalid_1's binary_logloss: 0.438013\n",
      "[23]\ttraining's binary_logloss: 0.40386\tvalid_1's binary_logloss: 0.438005\n",
      "[24]\ttraining's binary_logloss: 0.40251\tvalid_1's binary_logloss: 0.437931\n",
      "[25]\ttraining's binary_logloss: 0.401319\tvalid_1's binary_logloss: 0.437557\n",
      "[26]\ttraining's binary_logloss: 0.400068\tvalid_1's binary_logloss: 0.437566\n",
      "[27]\ttraining's binary_logloss: 0.398946\tvalid_1's binary_logloss: 0.437893\n",
      "[28]\ttraining's binary_logloss: 0.397783\tvalid_1's binary_logloss: 0.437794\n",
      "[29]\ttraining's binary_logloss: 0.396551\tvalid_1's binary_logloss: 0.437648\n",
      "[30]\ttraining's binary_logloss: 0.395443\tvalid_1's binary_logloss: 0.437877\n",
      "[31]\ttraining's binary_logloss: 0.394245\tvalid_1's binary_logloss: 0.438218\n",
      "[32]\ttraining's binary_logloss: 0.393162\tvalid_1's binary_logloss: 0.438194\n",
      "[33]\ttraining's binary_logloss: 0.392254\tvalid_1's binary_logloss: 0.438137\n",
      "[34]\ttraining's binary_logloss: 0.391339\tvalid_1's binary_logloss: 0.438082\n",
      "[35]\ttraining's binary_logloss: 0.390402\tvalid_1's binary_logloss: 0.437898\n",
      "Early stopping, best iteration is:\n",
      "[25]\ttraining's binary_logloss: 0.401319\tvalid_1's binary_logloss: 0.437557\n"
     ]
    },
    {
     "data": {
      "text/plain": [
       "LGBMClassifier(boosting_type='gbdt', class_weight=None, colsample_bytree=1.0,\n",
       "               importance_type='split', learning_rate=0.1, max_depth=-1,\n",
       "               min_child_samples=20, min_child_weight=0.001, min_split_gain=0.0,\n",
       "               n_estimators=100, n_jobs=-1, num_leaves=31, objective=None,\n",
       "               random_state=None, reg_alpha=0.0, reg_lambda=0.0, silent=True,\n",
       "               subsample=1.0, subsample_for_bin=200000, subsample_freq=0)"
      ]
     },
     "execution_count": 276,
     "metadata": {},
     "output_type": "execute_result"
    }
   ],
   "source": [
    "clf = lgb.LGBMClassifier()\n",
    "clf.fit(par_train_X, par_train_Y,eval_set=[(par_train_X,par_train_Y),(val_X,val_Y)],\n",
    "        early_stopping_rounds=10, verbose=True,categorical_feature=categorical_features)"
   ]
  },
  {
   "cell_type": "markdown",
   "metadata": {},
   "source": [
    "## Features importance\n",
    "\n",
    "Let's see the features importance."
   ]
  },
  {
   "cell_type": "code",
   "execution_count": 281,
   "metadata": {},
   "outputs": [
    {
     "data": {
      "text/plain": [
       "<matplotlib.axes._subplots.AxesSubplot at 0x141706310>"
      ]
     },
     "execution_count": 281,
     "metadata": {},
     "output_type": "execute_result"
    },
    {
     "data": {
      "image/png": "[encoded data removed]",
      "text/plain": [
       "<Figure size 720x720 with 1 Axes>"
      ]
     },
     "metadata": {
      "needs_background": "light"
     },
     "output_type": "display_data"
    }
   ],
   "source": [
    "fig,ax = plt.subplots(figsize=(10,10))\n",
    "lgb.plot_importance(clf,height=0.5,ax=ax)"
   ]
  },
  {
   "cell_type": "markdown",
   "metadata": {},
   "source": [
    "## Predict the target values"
   ]
  },
  {
   "cell_type": "code",
   "execution_count": 279,
   "metadata": {},
   "outputs": [],
   "source": [
    "# Use the whole data set to train our model\n",
    "clf = lgb.LGBMClassifier()\n",
    "clf.fit(train_X, train_Y)\n",
    "\n",
    "# predict the results\n",
    "preds_Y=clf.predict(test_X)"
   ]
  },
  {
   "cell_type": "markdown",
   "metadata": {},
   "source": [
    "## Confusion matrix, accuracy, precision, recall, F1 score"
   ]
  },
  {
   "cell_type": "code",
   "execution_count": 280,
   "metadata": {},
   "outputs": [
    {
     "name": "stdout",
     "output_type": "stream",
     "text": [
      "accuracy: 0.825\n",
      "\n",
      "precision: 0.7292576419213974\n",
      "\n",
      "recall: 0.367032967032967\n",
      "\n",
      "F1 score: 0.48830409356725146\n",
      "\n",
      "Confusion matrix: \n",
      "[[4449  186]\n",
      " [ 864  501]]\n"
     ]
    }
   ],
   "source": [
    "preds_Y=(preds_Y>0.5).astype(int)\n",
    "\n",
    "accuracy = accuracy_score(test_Y, preds_Y)\n",
    "precision = precision_score(test_Y, preds_Y)\n",
    "recall = recall_score(test_Y, preds_Y)\n",
    "f1 = f1_score(test_Y, preds_Y)\n",
    "c_matrix = confusion_matrix(test_Y, preds_Y)\n",
    "print('accuracy: '+str(accuracy)+'\\n')\n",
    "print('precision: '+str(precision)+'\\n')\n",
    "print('recall: '+str(recall)+'\\n')\n",
    "print('F1 score: '+str(f1)+'\\n')\n",
    "print('Confusion matrix: ')\n",
    "print(c_matrix)"
   ]
  },
  {
   "cell_type": "markdown",
   "metadata": {},
   "source": [
    "# DNN model\n",
    "\n",
    "One thing to note is that, we use the whole training data and the \"validation_split\" parameter when we fit our model. We use \"validation_split\" to automatically create our validation set. "
   ]
  },
  {
   "cell_type": "code",
   "execution_count": 384,
   "metadata": {},
   "outputs": [],
   "source": [
    "from keras import models\n",
    "from keras import layers"
   ]
  },
  {
   "cell_type": "markdown",
   "metadata": {},
   "source": [
    "## Data scaling: Standardization\n",
    "\n",
    "I use data scaling in order to improve the stability and performance of DNN models.\n",
    "\n",
    "Reference: https://machinelearningmastery.com/how-to-improve-neural-network-stability-and-modeling-performance-with-data-scaling/"
   ]
  },
  {
   "cell_type": "markdown",
   "metadata": {},
   "source": [
    "**Remark:** in general, in tree-based models the scale of the features does not matter.\n",
    "\n",
    "Reference: https://datascience.stackexchange.com/questions/22036/how-does-lightgbm-deal-with-value-scale\n",
    "\n",
    "Reference: https://datascience.stackexchange.com/questions/16225/would-you-recommend-feature-normalization-when-using-boosting-trees"
   ]
  },
  {
   "cell_type": "markdown",
   "metadata": {},
   "source": [
    "Now, let's scale our training set and test set.\n",
    "\n",
    "Reference: https://datascience.stackexchange.com/questions/39932/feature-scaling-both-training-and-test-data"
   ]
  },
  {
   "cell_type": "code",
   "execution_count": 385,
   "metadata": {},
   "outputs": [],
   "source": [
    "from sklearn.preprocessing import StandardScaler\n",
    "sc = StandardScaler().fit(OH_train_X) # Use the whole train set to fit our standardscaler.\n",
    "\n",
    "OH_train_X = sc.transform(OH_train_X)\n",
    "OH_test_X = sc.transform(OH_test_X)\n",
    "\n",
    "# Transform dataframe to array, so we can use our DNN models.\n",
    "OH_train_X = np.asarray(OH_train_X)\n",
    "OH_test_X = np.asarray(OH_test_X)\n",
    "train_Y = np.asarray(train_Y)"
   ]
  },
  {
   "cell_type": "markdown",
   "metadata": {},
   "source": [
    "## Calculated class weight"
   ]
  },
  {
   "cell_type": "code",
   "execution_count": 386,
   "metadata": {},
   "outputs": [
    {
     "data": {
      "text/plain": [
       "0    23364\n",
       "1     6636\n",
       "Name: default.payment.next.month, dtype: int64"
      ]
     },
     "execution_count": 386,
     "metadata": {},
     "output_type": "execute_result"
    }
   ],
   "source": [
    "data_df[\"default.payment.next.month\"].value_counts()"
   ]
  },
  {
   "cell_type": "code",
   "execution_count": 387,
   "metadata": {},
   "outputs": [],
   "source": [
    "# Calculate class weight\n",
    "NotDefault = 23364\n",
    "Default = 6636\n",
    "total_count = 23364 + 6636\n",
    "\n",
    "weight_no_default = (1/NotDefault)*(total_count)/2.0\n",
    "weight_default = (1/Default)*(total_count)/2.0\n",
    "\n",
    "class_weights = {0:weight_no_default, 1:weight_default}\n"
   ]
  },
  {
   "cell_type": "markdown",
   "metadata": {},
   "source": [
    "## Model1\n",
    "\n",
    "Goal: get great results in training set."
   ]
  },
  {
   "cell_type": "code",
   "execution_count": 478,
   "metadata": {},
   "outputs": [
    {
     "name": "stdout",
     "output_type": "stream",
     "text": [
      "Train on 19200 samples, validate on 4800 samples\n",
      "Epoch 1/200\n",
      "19200/19200 [==============================] - 2s 116us/step - loss: 0.5984 - accuracy: 0.7478 - val_loss: 0.5945 - val_accuracy: 0.7667\n",
      "Epoch 2/200\n",
      "19200/19200 [==============================] - 2s 83us/step - loss: 0.5762 - accuracy: 0.7586 - val_loss: 0.5817 - val_accuracy: 0.7475\n",
      "Epoch 3/200\n",
      "19200/19200 [==============================] - 2s 83us/step - loss: 0.5665 - accuracy: 0.7609 - val_loss: 0.5852 - val_accuracy: 0.7004\n",
      "Epoch 4/200\n",
      "19200/19200 [==============================] - 2s 84us/step - loss: 0.5609 - accuracy: 0.7487 - val_loss: 0.5837 - val_accuracy: 0.7460\n",
      "Epoch 5/200\n",
      "19200/19200 [==============================] - 2s 92us/step - loss: 0.5545 - accuracy: 0.7565 - val_loss: 0.5924 - val_accuracy: 0.6615\n",
      "Epoch 6/200\n",
      "19200/19200 [==============================] - 2s 87us/step - loss: 0.5540 - accuracy: 0.7560 - val_loss: 0.5899 - val_accuracy: 0.7340\n",
      "Epoch 7/200\n",
      "19200/19200 [==============================] - 2s 85us/step - loss: 0.5468 - accuracy: 0.7606 - val_loss: 0.5792 - val_accuracy: 0.7575\n",
      "Epoch 8/200\n",
      "19200/19200 [==============================] - 2s 84us/step - loss: 0.5432 - accuracy: 0.7601 - val_loss: 0.5834 - val_accuracy: 0.7342\n",
      "Epoch 9/200\n",
      "19200/19200 [==============================] - 2s 85us/step - loss: 0.5357 - accuracy: 0.7644 - val_loss: 0.5898 - val_accuracy: 0.7617\n",
      "Epoch 10/200\n",
      "19200/19200 [==============================] - 2s 83us/step - loss: 0.5335 - accuracy: 0.7625 - val_loss: 0.5908 - val_accuracy: 0.7163\n",
      "Epoch 11/200\n",
      "19200/19200 [==============================] - 2s 86us/step - loss: 0.5303 - accuracy: 0.7688 - val_loss: 0.6045 - val_accuracy: 0.7577\n",
      "Epoch 12/200\n",
      "19200/19200 [==============================] - 2s 84us/step - loss: 0.5265 - accuracy: 0.7640 - val_loss: 0.5939 - val_accuracy: 0.7525\n",
      "Epoch 13/200\n",
      "19200/19200 [==============================] - 2s 95us/step - loss: 0.5238 - accuracy: 0.7620 - val_loss: 0.6014 - val_accuracy: 0.7527\n",
      "Epoch 14/200\n",
      "19200/19200 [==============================] - 2s 90us/step - loss: 0.5198 - accuracy: 0.7590 - val_loss: 0.6004 - val_accuracy: 0.7100\n",
      "Epoch 15/200\n",
      "19200/19200 [==============================] - 2s 85us/step - loss: 0.5142 - accuracy: 0.7658 - val_loss: 0.6432 - val_accuracy: 0.7458\n",
      "Epoch 16/200\n",
      "19200/19200 [==============================] - 2s 83us/step - loss: 0.5096 - accuracy: 0.7699 - val_loss: 0.6065 - val_accuracy: 0.6871\n",
      "Epoch 17/200\n",
      "19200/19200 [==============================] - 2s 88us/step - loss: 0.5053 - accuracy: 0.7633 - val_loss: 0.6602 - val_accuracy: 0.7398\n",
      "Epoch 18/200\n",
      "19200/19200 [==============================] - 2s 83us/step - loss: 0.5017 - accuracy: 0.7734 - val_loss: 0.6138 - val_accuracy: 0.7158\n",
      "Epoch 19/200\n",
      "19200/19200 [==============================] - 2s 84us/step - loss: 0.4957 - accuracy: 0.7673 - val_loss: 0.6379 - val_accuracy: 0.7394\n",
      "Epoch 20/200\n",
      "19200/19200 [==============================] - 2s 85us/step - loss: 0.4899 - accuracy: 0.7683 - val_loss: 0.6406 - val_accuracy: 0.7596\n",
      "Epoch 21/200\n",
      "19200/19200 [==============================] - 2s 83us/step - loss: 0.4903 - accuracy: 0.7698 - val_loss: 0.6890 - val_accuracy: 0.7265\n",
      "Epoch 22/200\n",
      "19200/19200 [==============================] - 2s 85us/step - loss: 0.4822 - accuracy: 0.7718 - val_loss: 0.6826 - val_accuracy: 0.7319\n",
      "Epoch 23/200\n",
      "19200/19200 [==============================] - 2s 84us/step - loss: 0.4778 - accuracy: 0.7702 - val_loss: 0.7220 - val_accuracy: 0.7473\n",
      "Epoch 24/200\n",
      "19200/19200 [==============================] - 2s 85us/step - loss: 0.4703 - accuracy: 0.7783 - val_loss: 0.6718 - val_accuracy: 0.7292\n",
      "Epoch 25/200\n",
      "19200/19200 [==============================] - 2s 84us/step - loss: 0.4683 - accuracy: 0.7772 - val_loss: 0.6532 - val_accuracy: 0.6881\n",
      "Epoch 26/200\n",
      "19200/19200 [==============================] - 2s 83us/step - loss: 0.4642 - accuracy: 0.7845 - val_loss: 0.6973 - val_accuracy: 0.7231\n",
      "Epoch 27/200\n",
      "19200/19200 [==============================] - 2s 85us/step - loss: 0.4518 - accuracy: 0.7840 - val_loss: 0.7409 - val_accuracy: 0.7342\n",
      "Epoch 28/200\n",
      "19200/19200 [==============================] - 2s 88us/step - loss: 0.4500 - accuracy: 0.7882 - val_loss: 0.7495 - val_accuracy: 0.7444\n",
      "Epoch 29/200\n",
      "19200/19200 [==============================] - 2s 85us/step - loss: 0.4450 - accuracy: 0.7860 - val_loss: 0.7596 - val_accuracy: 0.7219\n",
      "Epoch 30/200\n",
      "19200/19200 [==============================] - 2s 100us/step - loss: 0.4390 - accuracy: 0.7936 - val_loss: 0.8167 - val_accuracy: 0.7496\n",
      "Epoch 31/200\n",
      "19200/19200 [==============================] - 2s 85us/step - loss: 0.4357 - accuracy: 0.7989 - val_loss: 0.8346 - val_accuracy: 0.6910\n",
      "Epoch 32/200\n",
      "19200/19200 [==============================] - 2s 85us/step - loss: 0.4269 - accuracy: 0.8012 - val_loss: 0.8707 - val_accuracy: 0.7133\n",
      "Epoch 33/200\n",
      "19200/19200 [==============================] - 2s 88us/step - loss: 0.4216 - accuracy: 0.8001 - val_loss: 0.8843 - val_accuracy: 0.7021\n",
      "Epoch 34/200\n",
      "19200/19200 [==============================] - 2s 85us/step - loss: 0.4204 - accuracy: 0.8040 - val_loss: 0.7661 - val_accuracy: 0.7013\n",
      "Epoch 35/200\n",
      "19200/19200 [==============================] - 2s 86us/step - loss: 0.4197 - accuracy: 0.8026 - val_loss: 0.9247 - val_accuracy: 0.6908\n",
      "Epoch 36/200\n",
      "19200/19200 [==============================] - 2s 93us/step - loss: 0.4075 - accuracy: 0.8079 - val_loss: 1.1026 - val_accuracy: 0.7156\n",
      "Epoch 37/200\n",
      "19200/19200 [==============================] - 2s 89us/step - loss: 0.4030 - accuracy: 0.8158 - val_loss: 1.0807 - val_accuracy: 0.7415\n",
      "Epoch 38/200\n",
      "19200/19200 [==============================] - 2s 86us/step - loss: 0.4012 - accuracy: 0.8134 - val_loss: 0.9418 - val_accuracy: 0.7113\n",
      "Epoch 39/200\n",
      "19200/19200 [==============================] - 2s 86us/step - loss: 0.3943 - accuracy: 0.8140 - val_loss: 0.9328 - val_accuracy: 0.7058\n",
      "Epoch 40/200\n",
      "19200/19200 [==============================] - 2s 95us/step - loss: 0.3856 - accuracy: 0.8193 - val_loss: 0.9530 - val_accuracy: 0.7221\n",
      "Epoch 41/200\n",
      "19200/19200 [==============================] - 2s 86us/step - loss: 0.3808 - accuracy: 0.8214 - val_loss: 1.3613 - val_accuracy: 0.7006\n",
      "Epoch 42/200\n",
      "19200/19200 [==============================] - 2s 92us/step - loss: 0.3846 - accuracy: 0.8229 - val_loss: 0.8204 - val_accuracy: 0.7273\n",
      "Epoch 43/200\n",
      "19200/19200 [==============================] - 2s 84us/step - loss: 0.3807 - accuracy: 0.8241 - val_loss: 1.0636 - val_accuracy: 0.7100\n",
      "Epoch 44/200\n",
      "19200/19200 [==============================] - 2s 84us/step - loss: 0.3707 - accuracy: 0.8274 - val_loss: 1.0362 - val_accuracy: 0.7054\n",
      "Epoch 45/200\n",
      "19200/19200 [==============================] - 2s 88us/step - loss: 0.3685 - accuracy: 0.8284 - val_loss: 1.1036 - val_accuracy: 0.7113\n",
      "Epoch 46/200\n",
      "19200/19200 [==============================] - 2s 86us/step - loss: 0.3659 - accuracy: 0.8270 - val_loss: 1.2545 - val_accuracy: 0.7196\n",
      "Epoch 47/200\n",
      "19200/19200 [==============================] - 2s 88us/step - loss: 0.3633 - accuracy: 0.8278 - val_loss: 1.2005 - val_accuracy: 0.6981\n",
      "Epoch 48/200\n",
      "19200/19200 [==============================] - 2s 84us/step - loss: 0.3498 - accuracy: 0.8372 - val_loss: 1.0658 - val_accuracy: 0.7304\n",
      "Epoch 49/200\n",
      "19200/19200 [==============================] - 2s 85us/step - loss: 0.3507 - accuracy: 0.8338 - val_loss: 1.2746 - val_accuracy: 0.7006\n",
      "Epoch 50/200\n",
      "19200/19200 [==============================] - 2s 84us/step - loss: 0.3516 - accuracy: 0.8320 - val_loss: 1.1694 - val_accuracy: 0.7346\n",
      "Epoch 51/200\n",
      "19200/19200 [==============================] - 2s 84us/step - loss: 0.3501 - accuracy: 0.8386 - val_loss: 1.2412 - val_accuracy: 0.7175\n",
      "Epoch 52/200\n",
      "19200/19200 [==============================] - 2s 85us/step - loss: 0.3428 - accuracy: 0.8412 - val_loss: 1.3504 - val_accuracy: 0.7177\n",
      "Epoch 53/200\n",
      "19200/19200 [==============================] - 2s 86us/step - loss: 0.3437 - accuracy: 0.8378 - val_loss: 1.3033 - val_accuracy: 0.7302\n",
      "Epoch 54/200\n",
      "19200/19200 [==============================] - 2s 88us/step - loss: 0.3323 - accuracy: 0.8394 - val_loss: 1.1280 - val_accuracy: 0.7171\n",
      "Epoch 55/200\n",
      "19200/19200 [==============================] - 2s 87us/step - loss: 0.3333 - accuracy: 0.8371 - val_loss: 1.4098 - val_accuracy: 0.7065\n",
      "Epoch 56/200\n",
      "19200/19200 [==============================] - 2s 86us/step - loss: 0.3262 - accuracy: 0.8483 - val_loss: 1.4978 - val_accuracy: 0.7075\n",
      "Epoch 57/200\n",
      "19200/19200 [==============================] - 2s 85us/step - loss: 0.3317 - accuracy: 0.8399 - val_loss: 1.6230 - val_accuracy: 0.7048\n",
      "Epoch 58/200\n",
      "19200/19200 [==============================] - 2s 85us/step - loss: 0.3225 - accuracy: 0.8519 - val_loss: 1.4823 - val_accuracy: 0.7167\n",
      "Epoch 59/200\n",
      "19200/19200 [==============================] - 2s 87us/step - loss: 0.3245 - accuracy: 0.8478 - val_loss: 1.2624 - val_accuracy: 0.6996\n",
      "Epoch 60/200\n",
      "19200/19200 [==============================] - 2s 86us/step - loss: 0.3126 - accuracy: 0.8473 - val_loss: 1.5198 - val_accuracy: 0.7146\n",
      "Epoch 61/200\n",
      "19200/19200 [==============================] - 2s 86us/step - loss: 0.3173 - accuracy: 0.8487 - val_loss: 1.3201 - val_accuracy: 0.7121\n",
      "Epoch 62/200\n",
      "19200/19200 [==============================] - 2s 85us/step - loss: 0.3058 - accuracy: 0.8535 - val_loss: 1.4064 - val_accuracy: 0.7319\n",
      "Epoch 63/200\n",
      "19200/19200 [==============================] - 2s 85us/step - loss: 0.3013 - accuracy: 0.8592 - val_loss: 1.5091 - val_accuracy: 0.6998\n",
      "Epoch 64/200\n",
      "19200/19200 [==============================] - 2s 85us/step - loss: 0.2997 - accuracy: 0.8544 - val_loss: 1.4488 - val_accuracy: 0.6862\n",
      "Epoch 65/200\n",
      "19200/19200 [==============================] - 2s 86us/step - loss: 0.3041 - accuracy: 0.8548 - val_loss: 1.2310 - val_accuracy: 0.7252\n",
      "Epoch 66/200\n",
      "19200/19200 [==============================] - 2s 86us/step - loss: 0.2986 - accuracy: 0.8606 - val_loss: 1.2946 - val_accuracy: 0.6942\n",
      "Epoch 67/200\n",
      "19200/19200 [==============================] - 2s 94us/step - loss: 0.2929 - accuracy: 0.8561 - val_loss: 1.6763 - val_accuracy: 0.7025\n",
      "Epoch 68/200\n",
      "19200/19200 [==============================] - 2s 85us/step - loss: 0.2965 - accuracy: 0.8558 - val_loss: 1.2676 - val_accuracy: 0.6917\n",
      "Epoch 69/200\n",
      "19200/19200 [==============================] - 2s 85us/step - loss: 0.2945 - accuracy: 0.8597 - val_loss: 1.4050 - val_accuracy: 0.7206\n",
      "Epoch 70/200\n",
      "19200/19200 [==============================] - 2s 85us/step - loss: 0.2904 - accuracy: 0.8628 - val_loss: 1.4332 - val_accuracy: 0.7100\n",
      "Epoch 71/200\n",
      "19200/19200 [==============================] - 2s 90us/step - loss: 0.2768 - accuracy: 0.8647 - val_loss: 2.0846 - val_accuracy: 0.7115\n",
      "Epoch 72/200\n",
      "19200/19200 [==============================] - 2s 94us/step - loss: 0.2847 - accuracy: 0.8578 - val_loss: 1.7852 - val_accuracy: 0.7171\n",
      "Epoch 73/200\n",
      "19200/19200 [==============================] - 2s 90us/step - loss: 0.2776 - accuracy: 0.8606 - val_loss: 1.9285 - val_accuracy: 0.7183\n",
      "Epoch 74/200\n",
      "19200/19200 [==============================] - 2s 88us/step - loss: 0.2886 - accuracy: 0.8559 - val_loss: 2.2079 - val_accuracy: 0.7027\n",
      "Epoch 75/200\n",
      "19200/19200 [==============================] - 2s 85us/step - loss: 0.2868 - accuracy: 0.8609 - val_loss: 1.5773 - val_accuracy: 0.7023\n",
      "Epoch 76/200\n",
      "19200/19200 [==============================] - 2s 86us/step - loss: 0.2775 - accuracy: 0.8646 - val_loss: 1.7162 - val_accuracy: 0.7175\n",
      "Epoch 77/200\n",
      "19200/19200 [==============================] - 2s 86us/step - loss: 0.2650 - accuracy: 0.8725 - val_loss: 1.7492 - val_accuracy: 0.7138\n",
      "Epoch 78/200\n",
      "19200/19200 [==============================] - 2s 95us/step - loss: 0.2758 - accuracy: 0.8619 - val_loss: 1.6342 - val_accuracy: 0.7202\n",
      "Epoch 79/200\n",
      "19200/19200 [==============================] - 2s 86us/step - loss: 0.2732 - accuracy: 0.8684 - val_loss: 1.4660 - val_accuracy: 0.7000\n",
      "Epoch 80/200\n",
      "19200/19200 [==============================] - 2s 86us/step - loss: 0.2668 - accuracy: 0.8693 - val_loss: 2.7126 - val_accuracy: 0.6994\n",
      "Epoch 81/200\n",
      "19200/19200 [==============================] - 2s 86us/step - loss: 0.2608 - accuracy: 0.8727 - val_loss: 2.5044 - val_accuracy: 0.6985\n",
      "Epoch 82/200\n",
      "19200/19200 [==============================] - 2s 86us/step - loss: 0.2649 - accuracy: 0.8689 - val_loss: 2.0555 - val_accuracy: 0.7121\n",
      "Epoch 83/200\n",
      "19200/19200 [==============================] - 2s 86us/step - loss: 0.2612 - accuracy: 0.8701 - val_loss: 2.1730 - val_accuracy: 0.6856\n",
      "Epoch 84/200\n",
      "19200/19200 [==============================] - 2s 91us/step - loss: 0.2644 - accuracy: 0.8657 - val_loss: 1.7628 - val_accuracy: 0.7140\n",
      "Epoch 85/200\n",
      "19200/19200 [==============================] - 2s 86us/step - loss: 0.2580 - accuracy: 0.8737 - val_loss: 2.4163 - val_accuracy: 0.7025\n",
      "Epoch 86/200\n",
      "19200/19200 [==============================] - 2s 86us/step - loss: 0.2559 - accuracy: 0.8769 - val_loss: 1.5558 - val_accuracy: 0.6969\n",
      "Epoch 87/200\n",
      "19200/19200 [==============================] - 2s 89us/step - loss: 0.2511 - accuracy: 0.8807 - val_loss: 2.4349 - val_accuracy: 0.7019\n",
      "Epoch 88/200\n",
      "19200/19200 [==============================] - 2s 86us/step - loss: 0.2473 - accuracy: 0.8781 - val_loss: 1.6509 - val_accuracy: 0.6746\n",
      "Epoch 89/200\n",
      "19200/19200 [==============================] - 2s 86us/step - loss: 0.2570 - accuracy: 0.8755 - val_loss: 1.9480 - val_accuracy: 0.6985\n",
      "Epoch 90/200\n",
      "19200/19200 [==============================] - 2s 87us/step - loss: 0.2531 - accuracy: 0.8763 - val_loss: 2.2757 - val_accuracy: 0.6829\n",
      "Epoch 91/200\n",
      "19200/19200 [==============================] - 2s 87us/step - loss: 0.2626 - accuracy: 0.8714 - val_loss: 1.7131 - val_accuracy: 0.7273\n",
      "Epoch 92/200\n",
      "19200/19200 [==============================] - 2s 86us/step - loss: 0.2450 - accuracy: 0.8810 - val_loss: 2.2226 - val_accuracy: 0.6960\n",
      "Epoch 93/200\n",
      "19200/19200 [==============================] - 2s 86us/step - loss: 0.2432 - accuracy: 0.8791 - val_loss: 2.3551 - val_accuracy: 0.6963\n",
      "Epoch 94/200\n",
      "19200/19200 [==============================] - 2s 86us/step - loss: 0.2400 - accuracy: 0.8828 - val_loss: 2.4381 - val_accuracy: 0.6988\n",
      "Epoch 95/200\n",
      "19200/19200 [==============================] - 2s 85us/step - loss: 0.2452 - accuracy: 0.8832 - val_loss: 1.7638 - val_accuracy: 0.7129\n",
      "Epoch 96/200\n",
      "19200/19200 [==============================] - 2s 85us/step - loss: 0.2321 - accuracy: 0.8832 - val_loss: 2.6836 - val_accuracy: 0.7379\n",
      "Epoch 97/200\n",
      "19200/19200 [==============================] - 2s 87us/step - loss: 0.2398 - accuracy: 0.8819 - val_loss: 1.8252 - val_accuracy: 0.7023\n",
      "Epoch 98/200\n",
      "19200/19200 [==============================] - 2s 86us/step - loss: 0.2332 - accuracy: 0.8806 - val_loss: 2.7424 - val_accuracy: 0.7069\n",
      "Epoch 99/200\n",
      "19200/19200 [==============================] - 2s 87us/step - loss: 0.2319 - accuracy: 0.8866 - val_loss: 2.7233 - val_accuracy: 0.7142\n",
      "Epoch 100/200\n",
      "19200/19200 [==============================] - 2s 89us/step - loss: 0.2416 - accuracy: 0.8816 - val_loss: 2.6193 - val_accuracy: 0.7240\n",
      "Epoch 101/200\n",
      "19200/19200 [==============================] - 2s 96us/step - loss: 0.2401 - accuracy: 0.8835 - val_loss: 2.1551 - val_accuracy: 0.6923\n",
      "Epoch 102/200\n",
      "19200/19200 [==============================] - 2s 87us/step - loss: 0.2266 - accuracy: 0.8871 - val_loss: 2.4055 - val_accuracy: 0.7171\n",
      "Epoch 103/200\n",
      "19200/19200 [==============================] - 2s 85us/step - loss: 0.2270 - accuracy: 0.8860 - val_loss: 2.0561 - val_accuracy: 0.6969\n",
      "Epoch 104/200\n",
      "19200/19200 [==============================] - 2s 86us/step - loss: 0.2292 - accuracy: 0.8831 - val_loss: 2.0879 - val_accuracy: 0.7069\n",
      "Epoch 105/200\n",
      "19200/19200 [==============================] - 2s 86us/step - loss: 0.2264 - accuracy: 0.8884 - val_loss: 2.0786 - val_accuracy: 0.6904\n",
      "Epoch 106/200\n",
      "19200/19200 [==============================] - 2s 86us/step - loss: 0.2169 - accuracy: 0.8932 - val_loss: 2.2924 - val_accuracy: 0.6975\n",
      "Epoch 107/200\n",
      "19200/19200 [==============================] - 2s 86us/step - loss: 0.2174 - accuracy: 0.8929 - val_loss: 2.6606 - val_accuracy: 0.7113\n",
      "Epoch 108/200\n",
      "19200/19200 [==============================] - 2s 92us/step - loss: 0.2245 - accuracy: 0.8909 - val_loss: 2.3564 - val_accuracy: 0.7192\n",
      "Epoch 109/200\n",
      "19200/19200 [==============================] - 2s 89us/step - loss: 0.2226 - accuracy: 0.8914 - val_loss: 1.4551 - val_accuracy: 0.6723\n",
      "Epoch 110/200\n",
      "19200/19200 [==============================] - 2s 86us/step - loss: 0.2198 - accuracy: 0.8918 - val_loss: 2.5299 - val_accuracy: 0.7098\n",
      "Epoch 111/200\n",
      "19200/19200 [==============================] - 2s 87us/step - loss: 0.2288 - accuracy: 0.8870 - val_loss: 2.7953 - val_accuracy: 0.7177\n",
      "Epoch 112/200\n",
      "19200/19200 [==============================] - 2s 90us/step - loss: 0.2100 - accuracy: 0.8980 - val_loss: 3.1128 - val_accuracy: 0.7077\n",
      "Epoch 113/200\n",
      "19200/19200 [==============================] - 2s 90us/step - loss: 0.2198 - accuracy: 0.8906 - val_loss: 1.8188 - val_accuracy: 0.6969\n",
      "Epoch 114/200\n",
      "19200/19200 [==============================] - 2s 94us/step - loss: 0.2092 - accuracy: 0.8964 - val_loss: 2.6084 - val_accuracy: 0.7223\n",
      "Epoch 115/200\n",
      "19200/19200 [==============================] - 2s 92us/step - loss: 0.2112 - accuracy: 0.8994 - val_loss: 2.0068 - val_accuracy: 0.7167\n",
      "Epoch 116/200\n",
      "19200/19200 [==============================] - 2s 87us/step - loss: 0.2094 - accuracy: 0.8947 - val_loss: 2.7010 - val_accuracy: 0.7152\n",
      "Epoch 117/200\n",
      "19200/19200 [==============================] - 2s 106us/step - loss: 0.2081 - accuracy: 0.8995 - val_loss: 2.5771 - val_accuracy: 0.7035\n",
      "Epoch 118/200\n",
      "19200/19200 [==============================] - 2s 116us/step - loss: 0.2120 - accuracy: 0.8957 - val_loss: 1.7348 - val_accuracy: 0.6915\n",
      "Epoch 119/200\n",
      "19200/19200 [==============================] - 2s 120us/step - loss: 0.1990 - accuracy: 0.9035 - val_loss: 2.3227 - val_accuracy: 0.7081\n",
      "Epoch 120/200\n",
      "19200/19200 [==============================] - 2s 110us/step - loss: 0.1943 - accuracy: 0.9046 - val_loss: 2.7618 - val_accuracy: 0.7160\n",
      "Epoch 121/200\n",
      "19200/19200 [==============================] - 2s 95us/step - loss: 0.2149 - accuracy: 0.8978 - val_loss: 2.1072 - val_accuracy: 0.7106\n",
      "Epoch 122/200\n",
      "19200/19200 [==============================] - 2s 92us/step - loss: 0.2050 - accuracy: 0.9008 - val_loss: 2.2465 - val_accuracy: 0.6971\n",
      "Epoch 123/200\n",
      "19200/19200 [==============================] - 2s 91us/step - loss: 0.2007 - accuracy: 0.9003 - val_loss: 2.1089 - val_accuracy: 0.7123\n",
      "Epoch 124/200\n",
      "19200/19200 [==============================] - 2s 114us/step - loss: 0.1952 - accuracy: 0.9039 - val_loss: 2.3501 - val_accuracy: 0.7221\n",
      "Epoch 125/200\n",
      "19200/19200 [==============================] - 2s 112us/step - loss: 0.2049 - accuracy: 0.8977 - val_loss: 2.1886 - val_accuracy: 0.7267\n",
      "Epoch 126/200\n",
      "19200/19200 [==============================] - 2s 85us/step - loss: 0.2035 - accuracy: 0.9020 - val_loss: 3.0922 - val_accuracy: 0.6985\n",
      "Epoch 127/200\n",
      "19200/19200 [==============================] - 2s 80us/step - loss: 0.2047 - accuracy: 0.8999 - val_loss: 2.8324 - val_accuracy: 0.7092\n",
      "Epoch 128/200\n",
      "19200/19200 [==============================] - 2s 97us/step - loss: 0.1943 - accuracy: 0.9049 - val_loss: 3.5924 - val_accuracy: 0.7004\n",
      "Epoch 129/200\n",
      "19200/19200 [==============================] - 2s 91us/step - loss: 0.1990 - accuracy: 0.9032 - val_loss: 3.0706 - val_accuracy: 0.7217\n",
      "Epoch 130/200\n",
      "19200/19200 [==============================] - 2s 124us/step - loss: 0.1972 - accuracy: 0.9048 - val_loss: 2.1141 - val_accuracy: 0.6946\n",
      "Epoch 131/200\n",
      "19200/19200 [==============================] - 2s 123us/step - loss: 0.1955 - accuracy: 0.9064 - val_loss: 2.8003 - val_accuracy: 0.7069\n",
      "Epoch 132/200\n",
      "19200/19200 [==============================] - 2s 106us/step - loss: 0.1918 - accuracy: 0.9067 - val_loss: 3.3583 - val_accuracy: 0.7121\n",
      "Epoch 133/200\n",
      "19200/19200 [==============================] - 2s 106us/step - loss: 0.1898 - accuracy: 0.9086 - val_loss: 3.5681 - val_accuracy: 0.7202\n",
      "Epoch 134/200\n",
      "19200/19200 [==============================] - 2s 105us/step - loss: 0.2054 - accuracy: 0.9019 - val_loss: 2.5601 - val_accuracy: 0.7000\n",
      "Epoch 135/200\n",
      "19200/19200 [==============================] - 2s 109us/step - loss: 0.1902 - accuracy: 0.9085 - val_loss: 4.5453 - val_accuracy: 0.7262\n",
      "Epoch 136/200\n",
      "19200/19200 [==============================] - 2s 116us/step - loss: 0.1928 - accuracy: 0.9071 - val_loss: 5.7248 - val_accuracy: 0.7152\n",
      "Epoch 137/200\n",
      "19200/19200 [==============================] - 2s 109us/step - loss: 0.1991 - accuracy: 0.9031 - val_loss: 3.3480 - val_accuracy: 0.6992\n",
      "Epoch 138/200\n",
      "19200/19200 [==============================] - 2s 110us/step - loss: 0.1902 - accuracy: 0.9083 - val_loss: 2.3743 - val_accuracy: 0.6938\n",
      "Epoch 139/200\n",
      "19200/19200 [==============================] - 2s 130us/step - loss: 0.1861 - accuracy: 0.9071 - val_loss: 4.8512 - val_accuracy: 0.6992\n",
      "Epoch 140/200\n",
      "19200/19200 [==============================] - 3s 131us/step - loss: 0.1898 - accuracy: 0.9107 - val_loss: 2.4764 - val_accuracy: 0.7040\n",
      "Epoch 141/200\n",
      "19200/19200 [==============================] - 2s 100us/step - loss: 0.1775 - accuracy: 0.9135 - val_loss: 3.3897 - val_accuracy: 0.7152\n",
      "Epoch 142/200\n",
      "19200/19200 [==============================] - 2s 91us/step - loss: 0.1804 - accuracy: 0.9065 - val_loss: 3.9702 - val_accuracy: 0.7050\n",
      "Epoch 143/200\n",
      "19200/19200 [==============================] - 2s 89us/step - loss: 0.1920 - accuracy: 0.9031 - val_loss: 2.8933 - val_accuracy: 0.7000\n",
      "Epoch 144/200\n",
      "19200/19200 [==============================] - 2s 102us/step - loss: 0.1919 - accuracy: 0.9067 - val_loss: 2.5031 - val_accuracy: 0.7063\n",
      "Epoch 145/200\n",
      "19200/19200 [==============================] - 2s 91us/step - loss: 0.1838 - accuracy: 0.9114 - val_loss: 3.0283 - val_accuracy: 0.6942\n",
      "Epoch 146/200\n",
      "19200/19200 [==============================] - 2s 92us/step - loss: 0.1839 - accuracy: 0.9094 - val_loss: 4.0682 - val_accuracy: 0.6904\n",
      "Epoch 147/200\n",
      "19200/19200 [==============================] - 2s 95us/step - loss: 0.2040 - accuracy: 0.8998 - val_loss: 2.7932 - val_accuracy: 0.7067\n",
      "Epoch 148/200\n",
      "19200/19200 [==============================] - 2s 93us/step - loss: 0.1885 - accuracy: 0.9089 - val_loss: 3.2708 - val_accuracy: 0.6973\n",
      "Epoch 149/200\n",
      "19200/19200 [==============================] - 2s 91us/step - loss: 0.1778 - accuracy: 0.9130 - val_loss: 4.0338 - val_accuracy: 0.7102\n",
      "Epoch 150/200\n",
      "19200/19200 [==============================] - 2s 92us/step - loss: 0.1771 - accuracy: 0.9112 - val_loss: 5.2165 - val_accuracy: 0.6994\n",
      "Epoch 151/200\n",
      "19200/19200 [==============================] - 2s 100us/step - loss: 0.1781 - accuracy: 0.9119 - val_loss: 3.9651 - val_accuracy: 0.7133\n",
      "Epoch 152/200\n",
      "19200/19200 [==============================] - 2s 121us/step - loss: 0.1817 - accuracy: 0.9081 - val_loss: 3.8409 - val_accuracy: 0.7144\n",
      "Epoch 153/200\n",
      "19200/19200 [==============================] - 2s 102us/step - loss: 0.1846 - accuracy: 0.9125 - val_loss: 3.3400 - val_accuracy: 0.7025\n",
      "Epoch 154/200\n",
      "19200/19200 [==============================] - 2s 115us/step - loss: 0.1795 - accuracy: 0.9112 - val_loss: 3.2233 - val_accuracy: 0.7094\n",
      "Epoch 155/200\n",
      "19200/19200 [==============================] - 2s 90us/step - loss: 0.1706 - accuracy: 0.9148 - val_loss: 3.1951 - val_accuracy: 0.6919\n",
      "Epoch 156/200\n",
      "19200/19200 [==============================] - 2s 88us/step - loss: 0.1678 - accuracy: 0.9148 - val_loss: 4.0392 - val_accuracy: 0.7233\n",
      "Epoch 157/200\n",
      "19200/19200 [==============================] - 2s 89us/step - loss: 0.1797 - accuracy: 0.9102 - val_loss: 3.8115 - val_accuracy: 0.7079\n",
      "Epoch 158/200\n",
      "19200/19200 [==============================] - 2s 90us/step - loss: 0.1731 - accuracy: 0.9153 - val_loss: 2.6289 - val_accuracy: 0.7113\n",
      "Epoch 159/200\n",
      "19200/19200 [==============================] - 2s 88us/step - loss: 0.1753 - accuracy: 0.9159 - val_loss: 2.1713 - val_accuracy: 0.6973\n",
      "Epoch 160/200\n",
      "19200/19200 [==============================] - 2s 89us/step - loss: 0.1601 - accuracy: 0.9207 - val_loss: 3.2644 - val_accuracy: 0.7058\n",
      "Epoch 161/200\n",
      "19200/19200 [==============================] - 2s 93us/step - loss: 0.1700 - accuracy: 0.9176 - val_loss: 2.2559 - val_accuracy: 0.7167\n",
      "Epoch 162/200\n",
      "19200/19200 [==============================] - 2s 91us/step - loss: 0.1704 - accuracy: 0.9198 - val_loss: 2.0468 - val_accuracy: 0.7006\n",
      "Epoch 163/200\n",
      "19200/19200 [==============================] - 2s 98us/step - loss: 0.1803 - accuracy: 0.9134 - val_loss: 2.1443 - val_accuracy: 0.7154\n",
      "Epoch 164/200\n",
      "19200/19200 [==============================] - 2s 91us/step - loss: 0.1692 - accuracy: 0.9152 - val_loss: 2.3086 - val_accuracy: 0.7025\n",
      "Epoch 165/200\n",
      "19200/19200 [==============================] - 2s 92us/step - loss: 0.1686 - accuracy: 0.9167 - val_loss: 2.8064 - val_accuracy: 0.7042\n",
      "Epoch 166/200\n",
      "19200/19200 [==============================] - 2s 92us/step - loss: 0.1651 - accuracy: 0.9194 - val_loss: 4.2116 - val_accuracy: 0.7171\n",
      "Epoch 167/200\n",
      "19200/19200 [==============================] - 2s 101us/step - loss: 0.1673 - accuracy: 0.9185 - val_loss: 4.0143 - val_accuracy: 0.6935\n",
      "Epoch 168/200\n",
      "19200/19200 [==============================] - 2s 91us/step - loss: 0.1726 - accuracy: 0.9151 - val_loss: 3.4871 - val_accuracy: 0.7088\n",
      "Epoch 169/200\n",
      "19200/19200 [==============================] - 2s 92us/step - loss: 0.1580 - accuracy: 0.9226 - val_loss: 4.2231 - val_accuracy: 0.7073\n",
      "Epoch 170/200\n",
      "19200/19200 [==============================] - 2s 91us/step - loss: 0.1857 - accuracy: 0.9095 - val_loss: 2.0728 - val_accuracy: 0.7158\n",
      "Epoch 171/200\n",
      "19200/19200 [==============================] - 2s 92us/step - loss: 0.1605 - accuracy: 0.9243 - val_loss: 2.3611 - val_accuracy: 0.7223\n",
      "Epoch 172/200\n",
      "19200/19200 [==============================] - 2s 103us/step - loss: 0.1556 - accuracy: 0.9251 - val_loss: 4.5169 - val_accuracy: 0.7056\n",
      "Epoch 173/200\n",
      "19200/19200 [==============================] - 2s 97us/step - loss: 0.1594 - accuracy: 0.9226 - val_loss: 2.0940 - val_accuracy: 0.7052\n",
      "Epoch 174/200\n",
      "19200/19200 [==============================] - 2s 108us/step - loss: 0.1702 - accuracy: 0.9170 - val_loss: 2.5126 - val_accuracy: 0.6944\n",
      "Epoch 175/200\n",
      "19200/19200 [==============================] - 2s 94us/step - loss: 0.1614 - accuracy: 0.9198 - val_loss: 2.1845 - val_accuracy: 0.6915\n",
      "Epoch 176/200\n",
      "19200/19200 [==============================] - 2s 94us/step - loss: 0.1551 - accuracy: 0.9231 - val_loss: 3.1835 - val_accuracy: 0.7133\n",
      "Epoch 177/200\n",
      "19200/19200 [==============================] - 2s 124us/step - loss: 0.1502 - accuracy: 0.9254 - val_loss: 3.6752 - val_accuracy: 0.7033\n",
      "Epoch 178/200\n",
      "19200/19200 [==============================] - 2s 116us/step - loss: 0.1563 - accuracy: 0.9231 - val_loss: 5.2108 - val_accuracy: 0.6983\n",
      "Epoch 179/200\n",
      "19200/19200 [==============================] - 2s 116us/step - loss: 0.1839 - accuracy: 0.9068 - val_loss: 2.8279 - val_accuracy: 0.6992\n",
      "Epoch 180/200\n",
      "19200/19200 [==============================] - 2s 123us/step - loss: 0.1699 - accuracy: 0.9158 - val_loss: 5.1350 - val_accuracy: 0.7088\n",
      "Epoch 181/200\n",
      "19200/19200 [==============================] - 2s 114us/step - loss: 0.1634 - accuracy: 0.9201 - val_loss: 5.7503 - val_accuracy: 0.7188\n",
      "Epoch 182/200\n",
      "19200/19200 [==============================] - 2s 92us/step - loss: 0.1638 - accuracy: 0.9248 - val_loss: 3.2009 - val_accuracy: 0.7038\n",
      "Epoch 183/200\n",
      "19200/19200 [==============================] - 2s 93us/step - loss: 0.1471 - accuracy: 0.9265 - val_loss: 3.8039 - val_accuracy: 0.7054\n",
      "Epoch 184/200\n",
      "19200/19200 [==============================] - 2s 92us/step - loss: 0.1546 - accuracy: 0.9246 - val_loss: 6.0918 - val_accuracy: 0.7167\n",
      "Epoch 185/200\n",
      "19200/19200 [==============================] - 2s 97us/step - loss: 0.1709 - accuracy: 0.9156 - val_loss: 5.9413 - val_accuracy: 0.7075\n",
      "Epoch 186/200\n",
      "19200/19200 [==============================] - 2s 98us/step - loss: 0.1581 - accuracy: 0.9263 - val_loss: 6.6725 - val_accuracy: 0.6998\n",
      "Epoch 187/200\n",
      "19200/19200 [==============================] - 2s 116us/step - loss: 0.1586 - accuracy: 0.9216 - val_loss: 5.8205 - val_accuracy: 0.6915\n",
      "Epoch 188/200\n",
      "19200/19200 [==============================] - 2s 96us/step - loss: 0.1527 - accuracy: 0.9268 - val_loss: 8.6074 - val_accuracy: 0.7152\n",
      "Epoch 189/200\n",
      "19200/19200 [==============================] - 2s 108us/step - loss: 0.1478 - accuracy: 0.9269 - val_loss: 11.4070 - val_accuracy: 0.7010\n",
      "Epoch 190/200\n",
      "19200/19200 [==============================] - 2s 119us/step - loss: 0.1480 - accuracy: 0.9291 - val_loss: 10.2122 - val_accuracy: 0.7077\n",
      "Epoch 191/200\n",
      "19200/19200 [==============================] - 2s 89us/step - loss: 0.1479 - accuracy: 0.9302 - val_loss: 2.9767 - val_accuracy: 0.7060\n",
      "Epoch 192/200\n",
      "19200/19200 [==============================] - 2s 97us/step - loss: 0.1648 - accuracy: 0.9208 - val_loss: 5.7300 - val_accuracy: 0.7058\n",
      "Epoch 193/200\n",
      "19200/19200 [==============================] - 2s 99us/step - loss: 0.1484 - accuracy: 0.9283 - val_loss: 11.3659 - val_accuracy: 0.7042\n",
      "Epoch 194/200\n",
      "19200/19200 [==============================] - 2s 83us/step - loss: 0.1540 - accuracy: 0.9276 - val_loss: 4.8226 - val_accuracy: 0.7048\n",
      "Epoch 195/200\n",
      "19200/19200 [==============================] - 2s 105us/step - loss: 0.1470 - accuracy: 0.9274 - val_loss: 7.3405 - val_accuracy: 0.7163\n",
      "Epoch 196/200\n",
      "19200/19200 [==============================] - 2s 121us/step - loss: 0.1475 - accuracy: 0.9299 - val_loss: 8.1153 - val_accuracy: 0.7304\n",
      "Epoch 197/200\n",
      "19200/19200 [==============================] - 2s 120us/step - loss: 0.1550 - accuracy: 0.9258 - val_loss: 5.8277 - val_accuracy: 0.7048\n",
      "Epoch 198/200\n",
      "19200/19200 [==============================] - 2s 91us/step - loss: 0.1541 - accuracy: 0.9257 - val_loss: 6.3774 - val_accuracy: 0.7063\n",
      "Epoch 199/200\n",
      "19200/19200 [==============================] - 2s 117us/step - loss: 0.1477 - accuracy: 0.9264 - val_loss: 8.7343 - val_accuracy: 0.7110\n",
      "Epoch 200/200\n",
      "19200/19200 [==============================] - 2s 93us/step - loss: 0.1492 - accuracy: 0.9292 - val_loss: 8.2471 - val_accuracy: 0.7083\n"
     ]
    }
   ],
   "source": [
    "# Training the DNN model 1\n",
    "model = models.Sequential()\n",
    "model.add(layers.Dense(100, activation='relu'))\n",
    "model.add(layers.Dense(100, activation='relu'))\n",
    "model.add(layers.Dense(100, activation='relu'))\n",
    "model.add(layers.Dense(100, activation='relu'))\n",
    "model.add(layers.Dense(100, activation='relu'))\n",
    "model.add(layers.Dense(100, activation='relu'))\n",
    "model.add(layers.Dense(100, activation='relu'))\n",
    "model.add(layers.Dense(100, activation='relu'))\n",
    "model.add(layers.Dense(100, activation='relu'))\n",
    "model.add(layers.Dense(1, activation='sigmoid'))\n",
    "\n",
    "model.compile(optimizer='adam',\n",
    "              loss='binary_crossentropy',\n",
    "              metrics=['accuracy'])\n",
    "\n",
    "history = model.fit(OH_train_X,\n",
    "                    train_Y,\n",
    "                    epochs=200,\n",
    "                    batch_size=50,\n",
    "                    validation_split=0.2,\n",
    "                    class_weight = class_weights) # Note that the \"validation_split\" parameter"
   ]
  },
  {
   "cell_type": "markdown",
   "metadata": {},
   "source": [
    "## Plot the results of loss and accuracy"
   ]
  },
  {
   "cell_type": "code",
   "execution_count": 479,
   "metadata": {},
   "outputs": [
    {
     "data": {
      "image/png": "[encoded data removed]",
      "text/plain": [
       "<Figure size 432x288 with 1 Axes>"
      ]
     },
     "metadata": {
      "needs_background": "light"
     },
     "output_type": "display_data"
    },
    {
     "data": {
      "image/png": "[encoded data removed]",
      "text/plain": [
       "<Figure size 432x288 with 1 Axes>"
      ]
     },
     "metadata": {
      "needs_background": "light"
     },
     "output_type": "display_data"
    }
   ],
   "source": [
    "# plot the results of loss values from the training set and validtion set\n",
    "import matplotlib.pyplot as plt\n",
    "history_dict = history.history\n",
    "loss_values = history_dict['loss']\n",
    "val_loss_values = history_dict['val_loss']\n",
    "\n",
    "epochs = range(1, len(history_dict['accuracy']) + 1)\n",
    "\n",
    "plt.plot(epochs, loss_values, 'bo', label='Training loss') # bo is for blue dot\n",
    "plt.plot(epochs, val_loss_values, 'b', label='Validation loss') # b is for blue line\n",
    "plt.title('Training and validation loss')\n",
    "plt.xlabel('Epochs')\n",
    "plt.ylabel('Loss')\n",
    "plt.legend()\n",
    "plt.show()\n",
    "\n",
    "#plt.clf()\n",
    "acc = history_dict['accuracy']\n",
    "val_acc = history_dict['val_accuracy']\n",
    "plt.plot(epochs, acc, 'bo', label='Training acc')\n",
    "plt.plot(epochs, val_acc, 'b', label='Validation acc')\n",
    "plt.title('Training and validation accuracy')\n",
    "plt.xlabel('Epochs')\n",
    "plt.ylabel('Accuracy')\n",
    "plt.legend()\n",
    "plt.show()"
   ]
  },
  {
   "cell_type": "markdown",
   "metadata": {},
   "source": [
    "According to above plots, we find that we have significant overfitting problem. (The validation loss is out of control).\n",
    "\n",
    "Therefore, let's use the 'dropout' techiniques in our next DNN model to prevent this problem."
   ]
  },
  {
   "cell_type": "markdown",
   "metadata": {},
   "source": [
    "## Model2\n",
    "\n",
    "Let's use the 'dropout' techiniques to prevent this problem."
   ]
  },
  {
   "cell_type": "code",
   "execution_count": 504,
   "metadata": {},
   "outputs": [
    {
     "name": "stdout",
     "output_type": "stream",
     "text": [
      "Train on 19200 samples, validate on 4800 samples\n",
      "Epoch 1/30\n",
      "19200/19200 [==============================] - 3s 165us/step - loss: 0.6858 - accuracy: 0.5519 - val_loss: 0.6953 - val_accuracy: 0.7783\n",
      "Epoch 2/30\n",
      "19200/19200 [==============================] - 3s 155us/step - loss: 0.6393 - accuracy: 0.7455 - val_loss: 0.6995 - val_accuracy: 0.7873\n",
      "Epoch 3/30\n",
      "19200/19200 [==============================] - 2s 118us/step - loss: 0.6207 - accuracy: 0.7506 - val_loss: 0.6773 - val_accuracy: 0.8062\n",
      "Epoch 4/30\n",
      "19200/19200 [==============================] - 2s 118us/step - loss: 0.6127 - accuracy: 0.7333 - val_loss: 0.6730 - val_accuracy: 0.8108\n",
      "Epoch 5/30\n",
      "19200/19200 [==============================] - 2s 119us/step - loss: 0.6064 - accuracy: 0.7348 - val_loss: 0.6872 - val_accuracy: 0.8102\n",
      "Epoch 6/30\n",
      "19200/19200 [==============================] - 2s 113us/step - loss: 0.6016 - accuracy: 0.7289 - val_loss: 0.6789 - val_accuracy: 0.8140\n",
      "Epoch 7/30\n",
      "19200/19200 [==============================] - 2s 118us/step - loss: 0.5998 - accuracy: 0.7201 - val_loss: 0.6681 - val_accuracy: 0.8098\n",
      "Epoch 8/30\n",
      "19200/19200 [==============================] - 2s 116us/step - loss: 0.5966 - accuracy: 0.7181 - val_loss: 0.6687 - val_accuracy: 0.8098\n",
      "Epoch 9/30\n",
      "19200/19200 [==============================] - 2s 118us/step - loss: 0.5955 - accuracy: 0.7138 - val_loss: 0.6471 - val_accuracy: 0.8010\n",
      "Epoch 10/30\n",
      "19200/19200 [==============================] - 2s 116us/step - loss: 0.5934 - accuracy: 0.7252 - val_loss: 0.6712 - val_accuracy: 0.8152\n",
      "Epoch 11/30\n",
      "19200/19200 [==============================] - 2s 128us/step - loss: 0.5940 - accuracy: 0.7229 - val_loss: 0.6516 - val_accuracy: 0.8104\n",
      "Epoch 12/30\n",
      "19200/19200 [==============================] - 2s 123us/step - loss: 0.5932 - accuracy: 0.7290 - val_loss: 0.6565 - val_accuracy: 0.8092\n",
      "Epoch 13/30\n",
      "19200/19200 [==============================] - 3s 148us/step - loss: 0.5890 - accuracy: 0.7238 - val_loss: 0.6710 - val_accuracy: 0.8142\n",
      "Epoch 14/30\n",
      "19200/19200 [==============================] - 2s 124us/step - loss: 0.5917 - accuracy: 0.7343 - val_loss: 0.6528 - val_accuracy: 0.8081\n",
      "Epoch 15/30\n",
      "19200/19200 [==============================] - 2s 121us/step - loss: 0.5898 - accuracy: 0.7259 - val_loss: 0.6496 - val_accuracy: 0.8031\n",
      "Epoch 16/30\n",
      "19200/19200 [==============================] - 3s 134us/step - loss: 0.5868 - accuracy: 0.7378 - val_loss: 0.6625 - val_accuracy: 0.8115\n",
      "Epoch 17/30\n",
      "19200/19200 [==============================] - 2s 125us/step - loss: 0.5874 - accuracy: 0.7424 - val_loss: 0.6584 - val_accuracy: 0.8138\n",
      "Epoch 18/30\n",
      "19200/19200 [==============================] - 3s 132us/step - loss: 0.5881 - accuracy: 0.7439 - val_loss: 0.6411 - val_accuracy: 0.8044\n",
      "Epoch 19/30\n",
      "19200/19200 [==============================] - 3s 140us/step - loss: 0.5859 - accuracy: 0.7421 - val_loss: 0.6530 - val_accuracy: 0.8121\n",
      "Epoch 20/30\n",
      "19200/19200 [==============================] - 2s 124us/step - loss: 0.5860 - accuracy: 0.7393 - val_loss: 0.6520 - val_accuracy: 0.8087\n",
      "Epoch 21/30\n",
      "19200/19200 [==============================] - 2s 116us/step - loss: 0.5873 - accuracy: 0.7257 - val_loss: 0.6322 - val_accuracy: 0.8075\n",
      "Epoch 22/30\n",
      "19200/19200 [==============================] - 2s 123us/step - loss: 0.5831 - accuracy: 0.7401 - val_loss: 0.6396 - val_accuracy: 0.8144\n",
      "Epoch 23/30\n",
      "19200/19200 [==============================] - 3s 133us/step - loss: 0.5866 - accuracy: 0.7333 - val_loss: 0.6501 - val_accuracy: 0.8156\n",
      "Epoch 24/30\n",
      "19200/19200 [==============================] - 3s 143us/step - loss: 0.5803 - accuracy: 0.7430 - val_loss: 0.6486 - val_accuracy: 0.8133\n",
      "Epoch 25/30\n",
      "19200/19200 [==============================] - 3s 131us/step - loss: 0.5827 - accuracy: 0.7406 - val_loss: 0.6364 - val_accuracy: 0.8083\n",
      "Epoch 26/30\n",
      "19200/19200 [==============================] - 2s 108us/step - loss: 0.5828 - accuracy: 0.7338 - val_loss: 0.6442 - val_accuracy: 0.8144\n",
      "Epoch 27/30\n",
      "19200/19200 [==============================] - 3s 138us/step - loss: 0.5817 - accuracy: 0.7485 - val_loss: 0.6370 - val_accuracy: 0.8121\n",
      "Epoch 28/30\n",
      "19200/19200 [==============================] - 2s 123us/step - loss: 0.5820 - accuracy: 0.7472 - val_loss: 0.6436 - val_accuracy: 0.8129\n",
      "Epoch 29/30\n",
      "19200/19200 [==============================] - 2s 112us/step - loss: 0.5809 - accuracy: 0.7440 - val_loss: 0.6242 - val_accuracy: 0.8077\n",
      "Epoch 30/30\n",
      "19200/19200 [==============================] - 2s 114us/step - loss: 0.5815 - accuracy: 0.7477 - val_loss: 0.6353 - val_accuracy: 0.8075\n"
     ]
    }
   ],
   "source": [
    "# Training the DNN model 2\n",
    "# Use \"dropout\" to prevent overfitting\n",
    "model = models.Sequential()\n",
    "model.add(layers.Dense(100, activation='relu'))\n",
    "model.add(layers.Dropout(0.5))\n",
    "model.add(layers.Dense(100, activation='relu'))\n",
    "model.add(layers.Dropout(0.5))\n",
    "model.add(layers.Dense(100, activation='relu'))\n",
    "model.add(layers.Dropout(0.5))\n",
    "model.add(layers.Dense(100, activation='relu'))\n",
    "model.add(layers.Dropout(0.5))\n",
    "model.add(layers.Dense(100, activation='relu'))\n",
    "model.add(layers.Dropout(0.5))\n",
    "model.add(layers.Dense(100, activation='relu'))\n",
    "model.add(layers.Dropout(0.5))\n",
    "model.add(layers.Dense(100, activation='relu'))\n",
    "model.add(layers.Dropout(0.5))\n",
    "model.add(layers.Dense(100, activation='relu'))\n",
    "model.add(layers.Dropout(0.5))\n",
    "model.add(layers.Dense(100, activation='relu'))\n",
    "model.add(layers.Dropout(0.1))\n",
    "model.add(layers.Dense(1, activation='sigmoid'))\n",
    "\n",
    "model.compile(optimizer='adam',\n",
    "              loss='binary_crossentropy',\n",
    "              metrics=['accuracy'])\n",
    "\n",
    "history = model.fit(OH_train_X,\n",
    "                    train_Y,\n",
    "                    epochs=200,\n",
    "                    batch_size=50,\n",
    "                    validation_split=0.2,\n",
    "                    class_weight = class_weights) # Note that the \"validation_split\" parameter"
   ]
  },
  {
   "cell_type": "markdown",
   "metadata": {},
   "source": [
    "## Plot the results of loss and accuracy"
   ]
  },
  {
   "cell_type": "code",
   "execution_count": 505,
   "metadata": {},
   "outputs": [
    {
     "data": {
      "image/png": "[encoded data removed]",
      "text/plain": [
       "<Figure size 432x288 with 1 Axes>"
      ]
     },
     "metadata": {
      "needs_background": "light"
     },
     "output_type": "display_data"
    },
    {
     "data": {
      "image/png": "[encoded data removed]",
      "text/plain": [
       "<Figure size 432x288 with 1 Axes>"
      ]
     },
     "metadata": {
      "needs_background": "light"
     },
     "output_type": "display_data"
    }
   ],
   "source": [
    "# plot the results of loss values from the training set and validtion set\n",
    "import matplotlib.pyplot as plt\n",
    "history_dict = history.history\n",
    "loss_values = history_dict['loss']\n",
    "val_loss_values = history_dict['val_loss']\n",
    "\n",
    "epochs = range(1, len(history_dict['accuracy']) + 1)\n",
    "\n",
    "plt.plot(epochs, loss_values, 'bo', label='Training loss') # bo is for blue dot\n",
    "plt.plot(epochs, val_loss_values, 'b', label='Validation loss') # b is for blue line\n",
    "plt.title('Training and validation loss')\n",
    "plt.xlabel('Epochs')\n",
    "plt.ylabel('Loss')\n",
    "plt.legend()\n",
    "plt.show()\n",
    "\n",
    "#plt.clf()\n",
    "acc = history_dict['accuracy']\n",
    "val_acc = history_dict['val_accuracy']\n",
    "plt.plot(epochs, acc, 'bo', label='Training acc')\n",
    "plt.plot(epochs, val_acc, 'b', label='Validation acc')\n",
    "plt.title('Training and validation accuracy')\n",
    "plt.xlabel('Epochs')\n",
    "plt.ylabel('Accuracy')\n",
    "plt.legend()\n",
    "plt.show()"
   ]
  },
  {
   "cell_type": "markdown",
   "metadata": {},
   "source": [
    "According to above plots, we have overcome the overfitting problem. That's great!"
   ]
  },
  {
   "cell_type": "markdown",
   "metadata": {},
   "source": [
    "## Use the whole training set to train our DNN model"
   ]
  },
  {
   "cell_type": "markdown",
   "metadata": {},
   "source": [
    "Now, let's use the whole training set to train our DNN model ."
   ]
  },
  {
   "cell_type": "code",
   "execution_count": 509,
   "metadata": {},
   "outputs": [
    {
     "name": "stdout",
     "output_type": "stream",
     "text": [
      "Epoch 1/200\n",
      "24000/24000 [==============================] - 4s 171us/step - loss: 0.6757 - accuracy: 0.5931\n",
      "Epoch 2/200\n",
      "24000/24000 [==============================] - 2s 102us/step - loss: 0.6343 - accuracy: 0.7444\n",
      "Epoch 3/200\n",
      "24000/24000 [==============================] - 3s 109us/step - loss: 0.6138 - accuracy: 0.7359\n",
      "Epoch 4/200\n",
      "24000/24000 [==============================] - 2s 100us/step - loss: 0.6084 - accuracy: 0.7309\n",
      "Epoch 5/200\n",
      "24000/24000 [==============================] - 3s 121us/step - loss: 0.6052 - accuracy: 0.7268\n",
      "Epoch 6/200\n",
      "24000/24000 [==============================] - 3s 116us/step - loss: 0.5990 - accuracy: 0.7132\n",
      "Epoch 7/200\n",
      "24000/24000 [==============================] - 2s 98us/step - loss: 0.5988 - accuracy: 0.7145\n",
      "Epoch 8/200\n",
      "24000/24000 [==============================] - 2s 96us/step - loss: 0.5983 - accuracy: 0.7154\n",
      "Epoch 9/200\n",
      "24000/24000 [==============================] - 2s 97us/step - loss: 0.5929 - accuracy: 0.7193\n",
      "Epoch 10/200\n",
      "24000/24000 [==============================] - 2s 99us/step - loss: 0.5909 - accuracy: 0.7004\n",
      "Epoch 11/200\n",
      "24000/24000 [==============================] - 2s 99us/step - loss: 0.5922 - accuracy: 0.7250\n",
      "Epoch 12/200\n",
      "24000/24000 [==============================] - 2s 97us/step - loss: 0.5930 - accuracy: 0.7232\n",
      "Epoch 13/200\n",
      "24000/24000 [==============================] - 2s 99us/step - loss: 0.5898 - accuracy: 0.7279\n",
      "Epoch 14/200\n",
      "24000/24000 [==============================] - 2s 99us/step - loss: 0.5885 - accuracy: 0.7297\n",
      "Epoch 15/200\n",
      "24000/24000 [==============================] - 2s 103us/step - loss: 0.5894 - accuracy: 0.7249\n",
      "Epoch 16/200\n",
      "24000/24000 [==============================] - 2s 98us/step - loss: 0.5886 - accuracy: 0.7299\n",
      "Epoch 17/200\n",
      "24000/24000 [==============================] - 2s 98us/step - loss: 0.5879 - accuracy: 0.7276\n",
      "Epoch 18/200\n",
      "24000/24000 [==============================] - 2s 99us/step - loss: 0.5870 - accuracy: 0.7251\n",
      "Epoch 19/200\n",
      "24000/24000 [==============================] - 2s 99us/step - loss: 0.5863 - accuracy: 0.7242\n",
      "Epoch 20/200\n",
      "24000/24000 [==============================] - 2s 99us/step - loss: 0.5864 - accuracy: 0.7270\n",
      "Epoch 21/200\n",
      "24000/24000 [==============================] - 2s 99us/step - loss: 0.5848 - accuracy: 0.7285\n",
      "Epoch 22/200\n",
      "24000/24000 [==============================] - 2s 99us/step - loss: 0.5824 - accuracy: 0.7303\n",
      "Epoch 23/200\n",
      "24000/24000 [==============================] - 2s 99us/step - loss: 0.5840 - accuracy: 0.7258\n",
      "Epoch 24/200\n",
      "24000/24000 [==============================] - 2s 98us/step - loss: 0.5844 - accuracy: 0.7306\n",
      "Epoch 25/200\n",
      "24000/24000 [==============================] - 2s 98us/step - loss: 0.5835 - accuracy: 0.7300\n",
      "Epoch 26/200\n",
      "24000/24000 [==============================] - 2s 99us/step - loss: 0.5818 - accuracy: 0.7330\n",
      "Epoch 27/200\n",
      "24000/24000 [==============================] - 2s 99us/step - loss: 0.5824 - accuracy: 0.7335\n",
      "Epoch 28/200\n",
      "24000/24000 [==============================] - 2s 98us/step - loss: 0.5826 - accuracy: 0.7352\n",
      "Epoch 29/200\n",
      "24000/24000 [==============================] - 2s 99us/step - loss: 0.5822 - accuracy: 0.7310\n",
      "Epoch 30/200\n",
      "24000/24000 [==============================] - 2s 100us/step - loss: 0.5828 - accuracy: 0.7326\n",
      "Epoch 31/200\n",
      "24000/24000 [==============================] - 2s 103us/step - loss: 0.5829 - accuracy: 0.7359\n",
      "Epoch 32/200\n",
      "24000/24000 [==============================] - 2s 103us/step - loss: 0.5822 - accuracy: 0.7375\n",
      "Epoch 33/200\n",
      "24000/24000 [==============================] - 2s 102us/step - loss: 0.5803 - accuracy: 0.7360\n",
      "Epoch 34/200\n",
      "24000/24000 [==============================] - 2s 102us/step - loss: 0.5804 - accuracy: 0.7408\n",
      "Epoch 35/200\n",
      "24000/24000 [==============================] - 2s 102us/step - loss: 0.5821 - accuracy: 0.7369\n",
      "Epoch 36/200\n",
      "24000/24000 [==============================] - 2s 102us/step - loss: 0.5801 - accuracy: 0.7447\n",
      "Epoch 37/200\n",
      "24000/24000 [==============================] - 3s 116us/step - loss: 0.5831 - accuracy: 0.7334\n",
      "Epoch 38/200\n",
      "24000/24000 [==============================] - 2s 100us/step - loss: 0.5809 - accuracy: 0.7358\n",
      "Epoch 39/200\n",
      "24000/24000 [==============================] - 2s 102us/step - loss: 0.5776 - accuracy: 0.7472\n",
      "Epoch 40/200\n",
      "24000/24000 [==============================] - 2s 103us/step - loss: 0.5823 - accuracy: 0.7451\n",
      "Epoch 41/200\n",
      "24000/24000 [==============================] - 2s 101us/step - loss: 0.5792 - accuracy: 0.7495\n",
      "Epoch 42/200\n",
      "24000/24000 [==============================] - 3s 127us/step - loss: 0.5781 - accuracy: 0.7389\n",
      "Epoch 43/200\n",
      "24000/24000 [==============================] - 3s 109us/step - loss: 0.5785 - accuracy: 0.7509\n",
      "Epoch 44/200\n",
      "24000/24000 [==============================] - 3s 106us/step - loss: 0.5773 - accuracy: 0.7406\n",
      "Epoch 45/200\n",
      "24000/24000 [==============================] - 3s 107us/step - loss: 0.5802 - accuracy: 0.7459\n",
      "Epoch 46/200\n",
      "24000/24000 [==============================] - 3s 109us/step - loss: 0.5790 - accuracy: 0.7465\n",
      "Epoch 47/200\n",
      "24000/24000 [==============================] - 3s 106us/step - loss: 0.5796 - accuracy: 0.7442\n",
      "Epoch 48/200\n",
      "24000/24000 [==============================] - 3s 108us/step - loss: 0.5784 - accuracy: 0.7513\n",
      "Epoch 49/200\n",
      "24000/24000 [==============================] - 3s 109us/step - loss: 0.5781 - accuracy: 0.7402\n",
      "Epoch 50/200\n",
      "24000/24000 [==============================] - 3s 109us/step - loss: 0.5789 - accuracy: 0.7406\n",
      "Epoch 51/200\n",
      "24000/24000 [==============================] - 3s 109us/step - loss: 0.5790 - accuracy: 0.7428\n",
      "Epoch 52/200\n",
      "24000/24000 [==============================] - 3s 118us/step - loss: 0.5768 - accuracy: 0.7397\n",
      "Epoch 53/200\n",
      "24000/24000 [==============================] - 3s 113us/step - loss: 0.5796 - accuracy: 0.7452\n",
      "Epoch 54/200\n",
      "24000/24000 [==============================] - 3s 113us/step - loss: 0.5778 - accuracy: 0.7415\n",
      "Epoch 55/200\n",
      "24000/24000 [==============================] - 3s 110us/step - loss: 0.5796 - accuracy: 0.7492\n",
      "Epoch 56/200\n",
      "24000/24000 [==============================] - 3s 110us/step - loss: 0.5775 - accuracy: 0.7447\n",
      "Epoch 57/200\n",
      "24000/24000 [==============================] - 3s 112us/step - loss: 0.5782 - accuracy: 0.7386\n",
      "Epoch 58/200\n",
      "24000/24000 [==============================] - 3s 113us/step - loss: 0.5767 - accuracy: 0.7396\n",
      "Epoch 59/200\n",
      "24000/24000 [==============================] - 3s 116us/step - loss: 0.5794 - accuracy: 0.7381\n",
      "Epoch 60/200\n",
      "24000/24000 [==============================] - 3s 111us/step - loss: 0.5797 - accuracy: 0.7414\n",
      "Epoch 61/200\n",
      "24000/24000 [==============================] - 3s 114us/step - loss: 0.5757 - accuracy: 0.7393\n",
      "Epoch 62/200\n",
      "24000/24000 [==============================] - 3s 120us/step - loss: 0.5783 - accuracy: 0.74000s - loss: 0.5782 - accuracy: 0.74\n",
      "Epoch 63/200\n",
      "24000/24000 [==============================] - 3s 114us/step - loss: 0.5808 - accuracy: 0.7388\n",
      "Epoch 64/200\n",
      "24000/24000 [==============================] - 3s 126us/step - loss: 0.5793 - accuracy: 0.7415\n",
      "Epoch 65/200\n",
      "24000/24000 [==============================] - 3s 125us/step - loss: 0.5792 - accuracy: 0.7397\n",
      "Epoch 66/200\n",
      "24000/24000 [==============================] - 3s 122us/step - loss: 0.5765 - accuracy: 0.7386\n",
      "Epoch 67/200\n",
      "24000/24000 [==============================] - 3s 114us/step - loss: 0.5790 - accuracy: 0.7408\n",
      "Epoch 68/200\n",
      "24000/24000 [==============================] - 3s 119us/step - loss: 0.5755 - accuracy: 0.7427\n",
      "Epoch 69/200\n",
      "24000/24000 [==============================] - 3s 130us/step - loss: 0.5796 - accuracy: 0.7496\n",
      "Epoch 70/200\n",
      "24000/24000 [==============================] - 3s 106us/step - loss: 0.5793 - accuracy: 0.7463\n",
      "Epoch 71/200\n",
      "24000/24000 [==============================] - 3s 105us/step - loss: 0.5791 - accuracy: 0.7408\n",
      "Epoch 72/200\n",
      "24000/24000 [==============================] - 3s 108us/step - loss: 0.5776 - accuracy: 0.7374\n",
      "Epoch 73/200\n",
      "24000/24000 [==============================] - 3s 119us/step - loss: 0.5774 - accuracy: 0.7450\n",
      "Epoch 74/200\n",
      "24000/24000 [==============================] - 3s 106us/step - loss: 0.5767 - accuracy: 0.7416\n",
      "Epoch 75/200\n",
      "24000/24000 [==============================] - 3s 111us/step - loss: 0.5777 - accuracy: 0.7426\n",
      "Epoch 76/200\n",
      "24000/24000 [==============================] - 3s 108us/step - loss: 0.5794 - accuracy: 0.7503\n",
      "Epoch 77/200\n",
      "24000/24000 [==============================] - 3s 139us/step - loss: 0.5786 - accuracy: 0.7369\n",
      "Epoch 78/200\n",
      "24000/24000 [==============================] - 3s 137us/step - loss: 0.5764 - accuracy: 0.7421\n",
      "Epoch 79/200\n",
      "24000/24000 [==============================] - 3s 117us/step - loss: 0.5784 - accuracy: 0.7361\n",
      "Epoch 80/200\n",
      "24000/24000 [==============================] - 3s 113us/step - loss: 0.5776 - accuracy: 0.7413\n",
      "Epoch 81/200\n",
      "24000/24000 [==============================] - 3s 108us/step - loss: 0.5781 - accuracy: 0.7431\n",
      "Epoch 82/200\n",
      "24000/24000 [==============================] - 3s 110us/step - loss: 0.5767 - accuracy: 0.7446\n",
      "Epoch 83/200\n",
      "24000/24000 [==============================] - 3s 110us/step - loss: 0.5774 - accuracy: 0.7479\n",
      "Epoch 84/200\n",
      "24000/24000 [==============================] - 3s 115us/step - loss: 0.5744 - accuracy: 0.7474\n",
      "Epoch 85/200\n",
      "24000/24000 [==============================] - 3s 109us/step - loss: 0.5755 - accuracy: 0.7420\n",
      "Epoch 86/200\n",
      "24000/24000 [==============================] - 3s 127us/step - loss: 0.5766 - accuracy: 0.7420\n",
      "Epoch 87/200\n",
      "24000/24000 [==============================] - 3s 121us/step - loss: 0.5751 - accuracy: 0.7426\n",
      "Epoch 88/200\n",
      "24000/24000 [==============================] - 3s 108us/step - loss: 0.5795 - accuracy: 0.7391\n",
      "Epoch 89/200\n",
      "24000/24000 [==============================] - 3s 110us/step - loss: 0.5758 - accuracy: 0.7436\n",
      "Epoch 90/200\n",
      "24000/24000 [==============================] - 3s 111us/step - loss: 0.5750 - accuracy: 0.7449\n",
      "Epoch 91/200\n",
      "24000/24000 [==============================] - 3s 110us/step - loss: 0.5794 - accuracy: 0.7431\n",
      "Epoch 92/200\n",
      "24000/24000 [==============================] - 3s 111us/step - loss: 0.5776 - accuracy: 0.7495\n",
      "Epoch 93/200\n",
      "24000/24000 [==============================] - 3s 112us/step - loss: 0.5748 - accuracy: 0.7411\n",
      "Epoch 94/200\n",
      "24000/24000 [==============================] - 3s 112us/step - loss: 0.5787 - accuracy: 0.7475\n",
      "Epoch 95/200\n",
      "24000/24000 [==============================] - 3s 134us/step - loss: 0.5781 - accuracy: 0.7409\n",
      "Epoch 96/200\n",
      "24000/24000 [==============================] - 3s 128us/step - loss: 0.5806 - accuracy: 0.7408\n",
      "Epoch 97/200\n",
      "24000/24000 [==============================] - 3s 120us/step - loss: 0.5770 - accuracy: 0.7537\n",
      "Epoch 98/200\n",
      "24000/24000 [==============================] - 3s 109us/step - loss: 0.5758 - accuracy: 0.7492\n",
      "Epoch 99/200\n",
      "24000/24000 [==============================] - 3s 131us/step - loss: 0.5787 - accuracy: 0.7407\n",
      "Epoch 100/200\n",
      "24000/24000 [==============================] - 3s 142us/step - loss: 0.5793 - accuracy: 0.7499\n",
      "Epoch 101/200\n",
      "24000/24000 [==============================] - 3s 119us/step - loss: 0.5756 - accuracy: 0.7490\n",
      "Epoch 102/200\n",
      "24000/24000 [==============================] - 3s 109us/step - loss: 0.5781 - accuracy: 0.7457\n",
      "Epoch 103/200\n",
      "24000/24000 [==============================] - 3s 109us/step - loss: 0.5772 - accuracy: 0.7482\n",
      "Epoch 104/200\n",
      "24000/24000 [==============================] - 3s 134us/step - loss: 0.5785 - accuracy: 0.7455\n",
      "Epoch 105/200\n",
      "24000/24000 [==============================] - 3s 128us/step - loss: 0.5770 - accuracy: 0.7444\n",
      "Epoch 106/200\n",
      "24000/24000 [==============================] - 3s 124us/step - loss: 0.5770 - accuracy: 0.7442\n",
      "Epoch 107/200\n",
      "24000/24000 [==============================] - 3s 130us/step - loss: 0.5790 - accuracy: 0.7401\n",
      "Epoch 108/200\n",
      "24000/24000 [==============================] - 3s 106us/step - loss: 0.5740 - accuracy: 0.7421\n",
      "Epoch 109/200\n",
      "24000/24000 [==============================] - 3s 107us/step - loss: 0.5760 - accuracy: 0.7430\n",
      "Epoch 110/200\n",
      "24000/24000 [==============================] - 3s 107us/step - loss: 0.5752 - accuracy: 0.7358\n",
      "Epoch 111/200\n",
      "24000/24000 [==============================] - 3s 110us/step - loss: 0.5771 - accuracy: 0.7374\n",
      "Epoch 112/200\n",
      "24000/24000 [==============================] - 3s 108us/step - loss: 0.5748 - accuracy: 0.7416\n",
      "Epoch 113/200\n",
      "24000/24000 [==============================] - 3s 108us/step - loss: 0.5756 - accuracy: 0.7433\n",
      "Epoch 114/200\n",
      "24000/24000 [==============================] - 3s 107us/step - loss: 0.5741 - accuracy: 0.7382\n",
      "Epoch 115/200\n",
      "24000/24000 [==============================] - 3s 108us/step - loss: 0.5753 - accuracy: 0.7379\n",
      "Epoch 116/200\n",
      "24000/24000 [==============================] - 3s 109us/step - loss: 0.5751 - accuracy: 0.7401\n",
      "Epoch 117/200\n",
      "24000/24000 [==============================] - 3s 107us/step - loss: 0.5772 - accuracy: 0.7480\n",
      "Epoch 118/200\n",
      "24000/24000 [==============================] - 3s 110us/step - loss: 0.5745 - accuracy: 0.7437\n",
      "Epoch 119/200\n",
      "24000/24000 [==============================] - 3s 116us/step - loss: 0.5747 - accuracy: 0.7440\n",
      "Epoch 120/200\n",
      "24000/24000 [==============================] - 3s 112us/step - loss: 0.5755 - accuracy: 0.7461\n",
      "Epoch 121/200\n",
      "24000/24000 [==============================] - 3s 112us/step - loss: 0.5750 - accuracy: 0.7490\n",
      "Epoch 122/200\n",
      "24000/24000 [==============================] - 3s 111us/step - loss: 0.5764 - accuracy: 0.7490\n",
      "Epoch 123/200\n",
      "24000/24000 [==============================] - 3s 123us/step - loss: 0.5750 - accuracy: 0.7430\n",
      "Epoch 124/200\n",
      "24000/24000 [==============================] - 3s 117us/step - loss: 0.5748 - accuracy: 0.7438\n",
      "Epoch 125/200\n",
      "24000/24000 [==============================] - 3s 115us/step - loss: 0.5755 - accuracy: 0.7449\n",
      "Epoch 126/200\n",
      "24000/24000 [==============================] - 3s 113us/step - loss: 0.5759 - accuracy: 0.7456\n",
      "Epoch 127/200\n",
      "24000/24000 [==============================] - 3s 113us/step - loss: 0.5764 - accuracy: 0.7500\n",
      "Epoch 128/200\n",
      "24000/24000 [==============================] - 3s 110us/step - loss: 0.5785 - accuracy: 0.7440\n",
      "Epoch 129/200\n",
      "24000/24000 [==============================] - 3s 113us/step - loss: 0.5742 - accuracy: 0.7496\n",
      "Epoch 130/200\n",
      "24000/24000 [==============================] - 3s 111us/step - loss: 0.5760 - accuracy: 0.7385\n",
      "Epoch 131/200\n",
      "24000/24000 [==============================] - 3s 110us/step - loss: 0.5761 - accuracy: 0.7481\n",
      "Epoch 132/200\n",
      "24000/24000 [==============================] - 3s 110us/step - loss: 0.5768 - accuracy: 0.7448\n",
      "Epoch 133/200\n",
      "24000/24000 [==============================] - 3s 109us/step - loss: 0.5752 - accuracy: 0.7505\n",
      "Epoch 134/200\n",
      "24000/24000 [==============================] - 3s 116us/step - loss: 0.5742 - accuracy: 0.7389\n",
      "Epoch 135/200\n",
      "24000/24000 [==============================] - 3s 110us/step - loss: 0.5734 - accuracy: 0.7399\n",
      "Epoch 136/200\n",
      "24000/24000 [==============================] - 3s 111us/step - loss: 0.5742 - accuracy: 0.7416\n",
      "Epoch 137/200\n",
      "24000/24000 [==============================] - 3s 113us/step - loss: 0.5765 - accuracy: 0.7400\n",
      "Epoch 138/200\n",
      "24000/24000 [==============================] - 3s 110us/step - loss: 0.5754 - accuracy: 0.7440\n",
      "Epoch 139/200\n",
      "24000/24000 [==============================] - 3s 109us/step - loss: 0.5775 - accuracy: 0.7426\n",
      "Epoch 140/200\n",
      "24000/24000 [==============================] - 3s 110us/step - loss: 0.5764 - accuracy: 0.7451\n",
      "Epoch 141/200\n",
      "24000/24000 [==============================] - 3s 115us/step - loss: 0.5770 - accuracy: 0.7484\n",
      "Epoch 142/200\n",
      "24000/24000 [==============================] - 3s 109us/step - loss: 0.5757 - accuracy: 0.7412\n",
      "Epoch 143/200\n",
      "24000/24000 [==============================] - 3s 109us/step - loss: 0.5779 - accuracy: 0.7412\n",
      "Epoch 144/200\n",
      "24000/24000 [==============================] - 3s 116us/step - loss: 0.5741 - accuracy: 0.7480\n",
      "Epoch 145/200\n",
      "24000/24000 [==============================] - 3s 110us/step - loss: 0.5776 - accuracy: 0.7464\n",
      "Epoch 146/200\n",
      "24000/24000 [==============================] - 3s 122us/step - loss: 0.5760 - accuracy: 0.7530\n",
      "Epoch 147/200\n",
      "24000/24000 [==============================] - 3s 128us/step - loss: 0.5739 - accuracy: 0.7492\n",
      "Epoch 148/200\n",
      "24000/24000 [==============================] - 3s 112us/step - loss: 0.5758 - accuracy: 0.7484\n",
      "Epoch 149/200\n",
      "24000/24000 [==============================] - 3s 115us/step - loss: 0.5744 - accuracy: 0.7492\n",
      "Epoch 150/200\n",
      "24000/24000 [==============================] - 3s 111us/step - loss: 0.5747 - accuracy: 0.7472\n",
      "Epoch 151/200\n",
      "24000/24000 [==============================] - 3s 109us/step - loss: 0.5780 - accuracy: 0.7458\n",
      "Epoch 152/200\n",
      "24000/24000 [==============================] - 3s 111us/step - loss: 0.5758 - accuracy: 0.7491\n",
      "Epoch 153/200\n",
      "24000/24000 [==============================] - 3s 113us/step - loss: 0.5789 - accuracy: 0.7384\n",
      "Epoch 154/200\n",
      "24000/24000 [==============================] - 3s 112us/step - loss: 0.5752 - accuracy: 0.7462\n",
      "Epoch 155/200\n",
      "24000/24000 [==============================] - 3s 117us/step - loss: 0.5777 - accuracy: 0.7448\n",
      "Epoch 156/200\n",
      "24000/24000 [==============================] - 3s 111us/step - loss: 0.5766 - accuracy: 0.7406\n",
      "Epoch 157/200\n",
      "24000/24000 [==============================] - 3s 110us/step - loss: 0.5767 - accuracy: 0.7377\n",
      "Epoch 158/200\n",
      "24000/24000 [==============================] - 3s 111us/step - loss: 0.5771 - accuracy: 0.7347\n",
      "Epoch 159/200\n",
      "24000/24000 [==============================] - 3s 111us/step - loss: 0.5749 - accuracy: 0.7428\n",
      "Epoch 160/200\n",
      "24000/24000 [==============================] - 3s 111us/step - loss: 0.5747 - accuracy: 0.7495\n",
      "Epoch 161/200\n",
      "24000/24000 [==============================] - 3s 111us/step - loss: 0.5783 - accuracy: 0.7455\n",
      "Epoch 162/200\n",
      "24000/24000 [==============================] - 3s 112us/step - loss: 0.5755 - accuracy: 0.7386\n",
      "Epoch 163/200\n",
      "24000/24000 [==============================] - 3s 115us/step - loss: 0.5750 - accuracy: 0.7499\n",
      "Epoch 164/200\n",
      "24000/24000 [==============================] - 3s 111us/step - loss: 0.5750 - accuracy: 0.7393\n",
      "Epoch 165/200\n",
      "24000/24000 [==============================] - 3s 110us/step - loss: 0.5762 - accuracy: 0.7423\n",
      "Epoch 166/200\n",
      "24000/24000 [==============================] - 3s 118us/step - loss: 0.5743 - accuracy: 0.7496\n",
      "Epoch 167/200\n",
      "24000/24000 [==============================] - 3s 120us/step - loss: 0.5774 - accuracy: 0.7474\n",
      "Epoch 168/200\n",
      "24000/24000 [==============================] - 3s 126us/step - loss: 0.5808 - accuracy: 0.7355\n",
      "Epoch 169/200\n",
      "24000/24000 [==============================] - 3s 136us/step - loss: 0.5753 - accuracy: 0.7321\n",
      "Epoch 170/200\n",
      "24000/24000 [==============================] - 3s 132us/step - loss: 0.5761 - accuracy: 0.7374\n",
      "Epoch 171/200\n",
      "24000/24000 [==============================] - 3s 128us/step - loss: 0.5759 - accuracy: 0.7426\n",
      "Epoch 172/200\n",
      "24000/24000 [==============================] - 3s 123us/step - loss: 0.5764 - accuracy: 0.7388\n",
      "Epoch 173/200\n",
      "24000/24000 [==============================] - 3s 139us/step - loss: 0.5762 - accuracy: 0.7511\n",
      "Epoch 174/200\n",
      "24000/24000 [==============================] - 3s 136us/step - loss: 0.5762 - accuracy: 0.7505\n",
      "Epoch 175/200\n",
      "24000/24000 [==============================] - 3s 142us/step - loss: 0.5738 - accuracy: 0.7529\n",
      "Epoch 176/200\n",
      "24000/24000 [==============================] - 3s 133us/step - loss: 0.5743 - accuracy: 0.7505\n",
      "Epoch 177/200\n",
      "24000/24000 [==============================] - 3s 114us/step - loss: 0.5759 - accuracy: 0.7444\n",
      "Epoch 178/200\n",
      "24000/24000 [==============================] - 3s 108us/step - loss: 0.5811 - accuracy: 0.7487\n",
      "Epoch 179/200\n",
      "24000/24000 [==============================] - 3s 137us/step - loss: 0.5765 - accuracy: 0.7474\n",
      "Epoch 180/200\n",
      "24000/24000 [==============================] - 3s 117us/step - loss: 0.5741 - accuracy: 0.7479\n",
      "Epoch 181/200\n",
      "24000/24000 [==============================] - 3s 133us/step - loss: 0.5764 - accuracy: 0.7424\n",
      "Epoch 182/200\n",
      "24000/24000 [==============================] - 3s 104us/step - loss: 0.5742 - accuracy: 0.7508\n",
      "Epoch 183/200\n",
      "24000/24000 [==============================] - 3s 105us/step - loss: 0.5747 - accuracy: 0.7484\n",
      "Epoch 184/200\n",
      "24000/24000 [==============================] - 3s 125us/step - loss: 0.5721 - accuracy: 0.7455\n",
      "Epoch 185/200\n",
      "24000/24000 [==============================] - 3s 115us/step - loss: 0.5775 - accuracy: 0.7426\n",
      "Epoch 186/200\n",
      "24000/24000 [==============================] - 3s 120us/step - loss: 0.5764 - accuracy: 0.7453\n",
      "Epoch 187/200\n",
      "24000/24000 [==============================] - 3s 116us/step - loss: 0.5758 - accuracy: 0.7446\n",
      "Epoch 188/200\n",
      "24000/24000 [==============================] - 3s 107us/step - loss: 0.5763 - accuracy: 0.7384\n",
      "Epoch 189/200\n",
      "24000/24000 [==============================] - 3s 122us/step - loss: 0.5764 - accuracy: 0.7433\n",
      "Epoch 190/200\n",
      "24000/24000 [==============================] - 3s 108us/step - loss: 0.5767 - accuracy: 0.7430\n",
      "Epoch 191/200\n",
      "24000/24000 [==============================] - 3s 114us/step - loss: 0.5760 - accuracy: 0.7450\n",
      "Epoch 192/200\n",
      "24000/24000 [==============================] - 3s 143us/step - loss: 0.5771 - accuracy: 0.7435\n",
      "Epoch 193/200\n",
      "24000/24000 [==============================] - 3s 140us/step - loss: 0.5745 - accuracy: 0.7368\n",
      "Epoch 194/200\n",
      "24000/24000 [==============================] - 3s 142us/step - loss: 0.5790 - accuracy: 0.7392\n",
      "Epoch 195/200\n",
      "24000/24000 [==============================] - 3s 132us/step - loss: 0.5798 - accuracy: 0.7425\n",
      "Epoch 196/200\n",
      "24000/24000 [==============================] - 3s 128us/step - loss: 0.5774 - accuracy: 0.7392\n",
      "Epoch 197/200\n",
      "24000/24000 [==============================] - 3s 115us/step - loss: 0.5789 - accuracy: 0.7372\n",
      "Epoch 198/200\n",
      "24000/24000 [==============================] - 3s 109us/step - loss: 0.5756 - accuracy: 0.7396\n",
      "Epoch 199/200\n",
      "24000/24000 [==============================] - 3s 107us/step - loss: 0.5744 - accuracy: 0.7473\n",
      "Epoch 200/200\n",
      "24000/24000 [==============================] - 3s 110us/step - loss: 0.5762 - accuracy: 0.7387\n"
     ]
    }
   ],
   "source": [
    "# Try\n",
    "# Using whole training data to train our model\n",
    "\n",
    "model = models.Sequential()\n",
    "model.add(layers.Dense(100, activation='relu'))\n",
    "model.add(layers.Dropout(0.5))\n",
    "model.add(layers.Dense(100, activation='relu'))\n",
    "model.add(layers.Dropout(0.5))\n",
    "model.add(layers.Dense(100, activation='relu'))\n",
    "model.add(layers.Dropout(0.5))\n",
    "model.add(layers.Dense(100, activation='relu'))\n",
    "model.add(layers.Dropout(0.5))\n",
    "model.add(layers.Dense(100, activation='relu'))\n",
    "model.add(layers.Dropout(0.5))\n",
    "model.add(layers.Dense(100, activation='relu'))\n",
    "model.add(layers.Dropout(0.5))\n",
    "model.add(layers.Dense(100, activation='relu'))\n",
    "model.add(layers.Dropout(0.5))\n",
    "model.add(layers.Dense(100, activation='relu'))\n",
    "model.add(layers.Dropout(0.5))\n",
    "model.add(layers.Dense(100, activation='relu'))\n",
    "model.add(layers.Dropout(0.1))\n",
    "model.add(layers.Dense(1, activation='sigmoid'))\n",
    "\n",
    "model.compile(optimizer='adam',\n",
    "              loss='binary_crossentropy',\n",
    "              metrics=['accuracy'])\n",
    "\n",
    "history = model.fit(OH_train_X,\n",
    "                    train_Y,\n",
    "                    epochs=200,\n",
    "                    batch_size=50,\n",
    "                    class_weight = class_weights)"
   ]
  },
  {
   "cell_type": "markdown",
   "metadata": {},
   "source": [
    "## predict the target values of testing set."
   ]
  },
  {
   "cell_type": "code",
   "execution_count": 516,
   "metadata": {},
   "outputs": [],
   "source": [
    "preds_Y = model.predict(OH_test_X)\n",
    "preds_Y=(preds_Y>0.5).astype(int)"
   ]
  },
  {
   "cell_type": "markdown",
   "metadata": {},
   "source": [
    "## Confusion matrix, accuracy, precision, recall, F1 score"
   ]
  },
  {
   "cell_type": "code",
   "execution_count": 510,
   "metadata": {},
   "outputs": [
    {
     "name": "stdout",
     "output_type": "stream",
     "text": [
      "accuracy: 0.8075\n",
      "\n",
      "precision: 0.5908304498269896\n",
      "\n",
      "recall: 0.5003663003663004\n",
      "\n",
      "F1 score: 0.5418484728282427\n",
      "\n",
      "Confusion matrix: \n",
      "[[4162  473]\n",
      " [ 682  683]]\n"
     ]
    }
   ],
   "source": [
    "accuracy = accuracy_score(test_Y, preds_Y)\n",
    "precision = precision_score(test_Y, preds_Y)\n",
    "recall = recall_score(test_Y, preds_Y)\n",
    "f1 = f1_score(test_Y, preds_Y)\n",
    "c_matrix = confusion_matrix(test_Y, preds_Y)\n",
    "print('accuracy: '+str(accuracy)+'\\n')\n",
    "print('precision: '+str(precision)+'\\n')\n",
    "print('recall: '+str(recall)+'\\n')\n",
    "print('F1 score: '+str(f1)+'\\n')\n",
    "print('Confusion matrix: ')\n",
    "print(c_matrix)"
   ]
  },
  {
   "cell_type": "markdown",
   "metadata": {},
   "source": [
    "# Conclusion"
   ]
  },
  {
   "cell_type": "markdown",
   "metadata": {},
   "source": [
    "In this report, we use different machine learning models to predict default of credit cards next month:\n",
    "\n",
    "CatBoost, XGBoost, LightGBM, Deep Neural Networks (DNN model).\n",
    "\n",
    "To apply different models, I did various data pre-processing, such as one-hot encoding and standarization.\n",
    "\n",
    "By using CatBoost, XGBoost, and LightGBM, we can get accuracy above 80% in our testing set.\n",
    "\n",
    "By using DNN models, we have lots of flexibility of network architecture. In particular, by using \"dropout\" techniques and enough training epochs, we can get pretty great result in our testing set.\n",
    "\n",
    "## Compare different models\n",
    "\n",
    "### CatBoost:\n",
    "\n",
    "accuracy: 0.8221666666666667\n",
    "\n",
    "precision: 0.7217261904761905\n",
    "\n",
    "recall: 0.3553113553113553\n",
    "\n",
    "F1 score: 0.47619047619047616\n",
    "\n",
    "### XGBoost:\n",
    "\n",
    "accuracy: 0.8188333333333333\n",
    "\n",
    "precision: 0.7044117647058824\n",
    "\n",
    "recall: 0.3509157509157509\n",
    "\n",
    "F1 score: 0.4684596577017115\n",
    "\n",
    "### LightGBM:\n",
    "accuracy: 0.825\n",
    "\n",
    "precision: 0.7292576419213974\n",
    "\n",
    "recall: 0.367032967032967\n",
    "\n",
    "F1 score: 0.48830409356725146\n",
    "\n",
    "\n",
    "### DNN model:\n",
    "accuracy: 0.8075\n",
    "\n",
    "precision: 0.5908304498269896\n",
    "\n",
    "recall: 0.5003663003663004\n",
    "\n",
    "F1 score: 0.5418484728282427\n",
    "\n",
    "\n",
    "According to above information, our DNN model is the best model in terms of F1 score. \n",
    "\n",
    "One thing to note is that, because we are dealing with imbalanced dataset, F1 score will be a more reasonable metric than accuracy. Therefore, in this report, DNN model will be the best model when we want to predict default of credit cards next month."
   ]
  },
  {
   "cell_type": "markdown",
   "metadata": {},
   "source": [
    "## Future works\n",
    "\n",
    "In our future work, I will spend more time to tune the hyperparameters in our DNN models, such as numbers of hidden layers and units.\n",
    "\n",
    "Hopefully, we can get even better results by using DNN models after tuning the hyperparameters."
   ]
  }
 ],
 "metadata": {
  "kernelspec": {
   "display_name": "Python 3",
   "language": "python",
   "name": "python3"
  },
  "language_info": {
   "codemirror_mode": {
    "name": "ipython",
    "version": 3
   },
   "file_extension": ".py",
   "mimetype": "text/x-python",
   "name": "python",
   "nbconvert_exporter": "python",
   "pygments_lexer": "ipython3",
   "version": "3.7.4"
  }
 },
 "nbformat": 4,
 "nbformat_minor": 4
}
